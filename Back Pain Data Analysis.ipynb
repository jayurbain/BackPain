{
 "cells": [
  {
   "cell_type": "markdown",
   "metadata": {},
   "source": [
    "### Back Pain Data Analysis\n",
    "\n",
    "Meredith Adams, MD  \n",
    "Jay Urbain, PhD\n",
    "\n",
    "10/25/2016, 11/5/2016, 11/21/2016, 11/23/2016\n",
    "\n",
    "Integration of statistical analysis and machine learning methods to identify factors associated with opioid prescribing in NIH research standards for Low Back Pain survey data: a pilot analysis.\n",
    "\n",
    "<a href=\"cLBP_RTF_MinimalDataset.pdf\">Standford Back Pain Survey</a>.\n",
    "\n",
    "<a href=\"data/stanford low back pain survey data.csv\">Data set</a> (csv).\n",
    "\n",
    "#### Introduction:\n",
    "\n",
    "The recent development of research standards for low back pain (NIH LBP taskforce reference) creates an opportunity for prospective data standardization. Ultimately, the goal of this standardized data collection is to better understand patterns for treatment response and build predictive care models. While the impact of aggregate data will depend on large-scale integration, the focus of this study is to better understand the relationship and predictive ability of the survey variables, specifically examining predictors of opioid use. \n",
    "Clinical research is evolving to reflect the need for efficient clinical trial design and data collection, which is reflected by the move toward improved data standardization. A key component of this is adaptive statistical designs and analysis methods. The expert consensus panel developed the NIH task force for research standards questionnaire (LBPTF) to overcome common research barriers while addressing the underlying key clinical questions for low back pain. Specifically, it shifted the focus from anatomic or pathophysiological classification to that of pain interference, functional status, and pain intensity. This focused questionnaire measures these domains using several short forms from PROMIS (Patient-Reported Outcome Measurement Information System).\n",
    "\n",
    "The novel organizational framework of the LBPTF questionnaire incorporates key clinical self-report measures as well as information about co-morbid conditions, demographic information, and treatment history. Understanding the co-occurence patterns of these data may provide insight into more focused data collection as well as build toward predictive modeling. The inherent limitations of self-reported data are mitigated by the extensive development of the minimum data set variables to incorporate key perceived domains of influence.\n",
    "\n",
    "Building from this perspective, the objective of this pilot survey was to deconstruct and analyze the inter-relationship of these variables in a way that will provide more meaningful analysis of these data moving forward. Statistical analysis and interpretation can be misleading due to inherent data assumptions, but with the data points selected by expert consensus, this minimum dataset represents the starting point for analyzing these relationships. Recognizing the limitations of a survey snapshot, we planned iterative analyses of a pilot survey obtained during the LBPTF with several statistical and machine learning methods to validate our approach.\n",
    "\n",
    "#### Results Summary\n",
    "\n",
    "We performed a preliminary statistical analysis of the back pain dateset.\n",
    "\n",
    "For the 200-sample dataset, Opioid use negatively affects the population distribution for physical function, physical interference, and pain intensity. All of these results are statistically significant (*p* << 0.05*) using Pearson's $\\chi^2$ (Chi-squared) goodness of fit statistic.\n",
    "\n",
    "We evaluate Logistic Regression (LR), Support Vector Machines (SVM), Decision Trees (DT), and recursive feature elimination for identifying the most predictive features in the data set.\n",
    "\n",
    "Using all features and 10-fold cross-validation, our predictive accuracies are *0.69, 0.63, and 0.58* for LR, SVM, and DT respectively. \n",
    "\n",
    "Using the top 10 features identified using recursive feature elimination for each classifier and 10-fold cross-validation, our predictive accuracies improvei modestly to *0.71, 0.66, and 0.66* for LR, SVM, and DT respectively."
   ]
  },
  {
   "cell_type": "markdown",
   "metadata": {},
   "source": [
    "#### Legend\n",
    "\n",
    "Match columns in the data set to questions in the survey."
   ]
  },
  {
   "cell_type": "markdown",
   "metadata": {},
   "source": [
    "DUR - 1. How long has low-back pain been an ongoing problem for you?  \n",
    "FRE - 2. How often has low-back pain been an ongoing problem for you over the past 6 months?    \n",
    "NRS - 3. In the past 7 days, how would you rate your low-back pain on average?  \n",
    "RAD - 4. Has back pain spread down your leg(s) during the past 2 weeks? (radiculopathy)  \n",
    "PIDAY - 9. How much did pain interfere with your day-to-day activities?  \n",
    "PIWORK - 10. How much did pain interfere with work around the home?  \n",
    "PPISOC - 11. How much did pain interfere with your ability to participate in social activities?  \n",
    "PICHOR - 12. How much did pain interfere with your household chores?  \n",
    "LBS - 6. Have you ever had a low-back operation?   \n",
    "LBST - 7. If yes, when was your last back operation?  \n",
    "FUS - 8. Did any of your back operations involve a spinal fusion?    \n",
    "OPI - 13. Opioid painkillers, have you used for your back pain?  \n",
    "INJ - 13. Injections such as epidural steroid injections, facet injections, have you used for your back pain?  \n",
    "EXE - 13. Exercise therapy, have you used for your back pain?  \n",
    "PSY - 13. Psychological counseling, have you used for your back pain?  \n",
    "UNEMP - 14. I have been off work or unemployed for 1 month or more due to low-back pain.   \n",
    "DIS - 15. I receive or have applied for disability or workers’ compensation benefits because I am unable to work due to low-back pain.  \n",
    "ABD - 5. Stomach pain  \n",
    "JOI - 5. Pain in your arms, legs, or joints other than your spine or back  \n",
    "HEA - 5. Headaches # Widespread pain or pain in most of your body??  \n",
    "FIB - 15. I receive or have applied for disability benefits because I am unable to work dueto low-back pain.  \n",
    "CHOR - 16. Are you able to do chores such as vacuuming or yard work?  \n",
    "STAIR - 17. Are you able to go up and down stairs at a normal pace?  \n",
    "W15 - 18. Are you able to go for a walk of at least 15 minutes?  \n",
    "ERANDS 19. Are you able to run errands and shop?  \n",
    "WORTH -, 20. In the past 7 days, I felt worthless.  \n",
    "HELPL,  21. In the past 7 days, I felt helpless.  \n",
    "DEPRES -  22. In the past 7 days, I felt depressed.  \n",
    "HOPEL -  23.  In the past 7 days, I felt hopeless.  \n",
    "SLEEPQ - 24.  In the past 7 days, my sleep quality was (choices)  \n",
    "SREFR - 25.  In the past 7 days, my sleep was refreshing.  \n",
    "SPROB - 26.  In the past 7 days, I had a problem with my sleep.  \n",
    "SONSET - 27. I had difficulty falling asleep  \n",
    "CAT.SAFE - 28.  It’s not really safe for a person with my back problem to be physically active.  \n",
    "CAT.NEVER, 29.  I feel that my back pain is terrible and it’s never going to get any better.  \n",
    "LIT,  30.  Are you involved in a lawsuit or legal claim related to your back problem?  \n",
    "AS -  \n",
    "ETOH  - 31. Have you drunk or used drugs more than you meant to?\n",
    "SAHELP – 32. Have you felt you wanted or needed to cut down on your drinking or drug use?   \n",
    "AGE - 33. Age: years (0–120)   \n",
    "SEX - 34. Gender (Male/Female/Unknown/Unspecified)\n",
    "HIS – 35. Hispanic or Latino/Not H or L/Unknown/Unreported)  \n",
    "NAT - Native American\n",
    "ASA - Asian\n",
    "BL - Black or African American\n",
    "PAC - Native Hawaiian or Pacific Islander\n",
    "W -  White\n",
    "UNK - Unknown\n",
    "NA. – Not reported  \n",
    "EMP - 37. Employment Status  \n",
    "EDU - 38. Education Level: (select the highest level attained)   \n",
    "SMOK - 39. How would you describe your cigarette smoking?   \n",
    "HT - 40. Height  \n",
    "WT - 40. Weight  \n",
    "RACE - 36.  \n",
    "PI - ??  \n",
    "FUN - ??  \n",
    "DEP - 22. ??  \n",
    "SLEEP - 24. ??  \n"
   ]
  },
  {
   "cell_type": "markdown",
   "metadata": {},
   "source": [
    "#### Load the data"
   ]
  },
  {
   "cell_type": "code",
   "execution_count": 130,
   "metadata": {
    "collapsed": false
   },
   "outputs": [
    {
     "data": {
      "text/plain": [
       "(200, 60)"
      ]
     },
     "execution_count": 130,
     "metadata": {},
     "output_type": "execute_result"
    }
   ],
   "source": [
    "import pandas as pd\n",
    "import numpy as np\n",
    "import matplotlib as plt\n",
    "%matplotlib inline \n",
    "\n",
    "# Read dataset into a Pandas dataframe\n",
    "df = pd.read_csv(\"data/stanford low back pain survey data.csv\")\n",
    "# Dimensions\n",
    "df.shape"
   ]
  },
  {
   "cell_type": "markdown",
   "metadata": {},
   "source": [
    "#### Reveiw and clean the  data"
   ]
  },
  {
   "cell_type": "code",
   "execution_count": 131,
   "metadata": {
    "collapsed": false
   },
   "outputs": [
    {
     "name": "stdout",
     "output_type": "stream",
     "text": [
      "       ID  DUR  FREQ  NRS  RAD  PIDAY  PIWORK  PPISOC  PICHOR  LBS  ...    \\\n",
      "count 200  200   200  199  199    200     200     199     199  200  ...     \n",
      "mean  116    4     2    5    0      3       3       3       3    0  ...     \n",
      "std    69    1     1    2    0      1       1       1       1    1  ...     \n",
      "min     5    1     1    1    0      1       1       1       1    0  ...     \n",
      "25%    58    3     2  nan  nan      3       3     nan     nan    0  ...     \n",
      "50%   108    4     3  nan  nan      3       3     nan     nan    0  ...     \n",
      "75%   172    4     3  nan  nan      4       4     nan     nan    0  ...     \n",
      "max   242    4     3   10    1      5       5       5       5    2  ...     \n",
      "\n",
      "       EMP  EDU  SMOK  HT  WT  RACE  PI  FUN  DEP  SLEEP  \n",
      "count  200  200   119 187 188   181 198  174   96    197  \n",
      "mean     3    5     0  67 175     4  13   10    7     13  \n",
      "std      2    2     0   4  42     1   4    3    5      4  \n",
      "min      0    0     0  50  96     0   4    5    4      4  \n",
      "25%      1    3   nan nan nan   nan nan  nan  nan    nan  \n",
      "50%      2    6   nan nan nan   nan nan  nan  nan    nan  \n",
      "75%      5    6   nan nan nan   nan nan  nan  nan    nan  \n",
      "max      9    9     0  77 350     5  20   17   20     20  \n",
      "\n",
      "[8 rows x 60 columns]\n"
     ]
    }
   ],
   "source": [
    "import warnings\n",
    "warnings.filterwarnings('ignore')\n",
    "\n",
    "# show column distributions\n",
    "print(df.describe())"
   ]
  },
  {
   "cell_type": "code",
   "execution_count": 132,
   "metadata": {
    "collapsed": false
   },
   "outputs": [
    {
     "data": {
      "text/html": [
       "<div>\n",
       "<table border=\"1\" class=\"dataframe\">\n",
       "  <thead>\n",
       "    <tr style=\"text-align: right;\">\n",
       "      <th></th>\n",
       "      <th>ID</th>\n",
       "      <th>DUR</th>\n",
       "      <th>FREQ</th>\n",
       "      <th>NRS</th>\n",
       "      <th>RAD</th>\n",
       "      <th>PIDAY</th>\n",
       "      <th>PIWORK</th>\n",
       "      <th>PPISOC</th>\n",
       "      <th>PICHOR</th>\n",
       "      <th>LBS</th>\n",
       "      <th>LBST</th>\n",
       "      <th>FUS</th>\n",
       "      <th>OPI</th>\n",
       "      <th>INJ</th>\n",
       "      <th>EXE</th>\n",
       "    </tr>\n",
       "  </thead>\n",
       "  <tbody>\n",
       "    <tr>\n",
       "      <th>0</th>\n",
       "      <td>5</td>\n",
       "      <td>1</td>\n",
       "      <td>2</td>\n",
       "      <td>6</td>\n",
       "      <td>0</td>\n",
       "      <td>3</td>\n",
       "      <td>4</td>\n",
       "      <td>4</td>\n",
       "      <td>3</td>\n",
       "      <td>0</td>\n",
       "      <td>nan</td>\n",
       "      <td>nan</td>\n",
       "      <td>1</td>\n",
       "      <td>1</td>\n",
       "      <td>1</td>\n",
       "    </tr>\n",
       "    <tr>\n",
       "      <th>1</th>\n",
       "      <td>8</td>\n",
       "      <td>4</td>\n",
       "      <td>2</td>\n",
       "      <td>3</td>\n",
       "      <td>1</td>\n",
       "      <td>2</td>\n",
       "      <td>2</td>\n",
       "      <td>3</td>\n",
       "      <td>3</td>\n",
       "      <td>0</td>\n",
       "      <td>nan</td>\n",
       "      <td>nan</td>\n",
       "      <td>0</td>\n",
       "      <td>0</td>\n",
       "      <td>1</td>\n",
       "    </tr>\n",
       "    <tr>\n",
       "      <th>2</th>\n",
       "      <td>10</td>\n",
       "      <td>3</td>\n",
       "      <td>3</td>\n",
       "      <td>2</td>\n",
       "      <td>1</td>\n",
       "      <td>2</td>\n",
       "      <td>2</td>\n",
       "      <td>1</td>\n",
       "      <td>2</td>\n",
       "      <td>0</td>\n",
       "      <td>nan</td>\n",
       "      <td>nan</td>\n",
       "      <td>0</td>\n",
       "      <td>1</td>\n",
       "      <td>1</td>\n",
       "    </tr>\n",
       "    <tr>\n",
       "      <th>3</th>\n",
       "      <td>11</td>\n",
       "      <td>4</td>\n",
       "      <td>2</td>\n",
       "      <td>7</td>\n",
       "      <td>1</td>\n",
       "      <td>4</td>\n",
       "      <td>4</td>\n",
       "      <td>4</td>\n",
       "      <td>4</td>\n",
       "      <td>0</td>\n",
       "      <td>nan</td>\n",
       "      <td>nan</td>\n",
       "      <td>0</td>\n",
       "      <td>0</td>\n",
       "      <td>1</td>\n",
       "    </tr>\n",
       "    <tr>\n",
       "      <th>4</th>\n",
       "      <td>12</td>\n",
       "      <td>3</td>\n",
       "      <td>3</td>\n",
       "      <td>6</td>\n",
       "      <td>1</td>\n",
       "      <td>3</td>\n",
       "      <td>4</td>\n",
       "      <td>2</td>\n",
       "      <td>3</td>\n",
       "      <td>0</td>\n",
       "      <td>nan</td>\n",
       "      <td>nan</td>\n",
       "      <td>0</td>\n",
       "      <td>0</td>\n",
       "      <td>0</td>\n",
       "    </tr>\n",
       "    <tr>\n",
       "      <th>5</th>\n",
       "      <td>13</td>\n",
       "      <td>3</td>\n",
       "      <td>3</td>\n",
       "      <td>7</td>\n",
       "      <td>1</td>\n",
       "      <td>4</td>\n",
       "      <td>4</td>\n",
       "      <td>4</td>\n",
       "      <td>4</td>\n",
       "      <td>0</td>\n",
       "      <td>nan</td>\n",
       "      <td>nan</td>\n",
       "      <td>0</td>\n",
       "      <td>0</td>\n",
       "      <td>1</td>\n",
       "    </tr>\n",
       "    <tr>\n",
       "      <th>6</th>\n",
       "      <td>14</td>\n",
       "      <td>3</td>\n",
       "      <td>1</td>\n",
       "      <td>2</td>\n",
       "      <td>0</td>\n",
       "      <td>1</td>\n",
       "      <td>2</td>\n",
       "      <td>1</td>\n",
       "      <td>2</td>\n",
       "      <td>0</td>\n",
       "      <td>nan</td>\n",
       "      <td>nan</td>\n",
       "      <td>nan</td>\n",
       "      <td>1</td>\n",
       "      <td>1</td>\n",
       "    </tr>\n",
       "    <tr>\n",
       "      <th>7</th>\n",
       "      <td>15</td>\n",
       "      <td>4</td>\n",
       "      <td>2</td>\n",
       "      <td>1</td>\n",
       "      <td>0</td>\n",
       "      <td>2</td>\n",
       "      <td>1</td>\n",
       "      <td>1</td>\n",
       "      <td>2</td>\n",
       "      <td>0</td>\n",
       "      <td>nan</td>\n",
       "      <td>nan</td>\n",
       "      <td>1</td>\n",
       "      <td>nan</td>\n",
       "      <td>1</td>\n",
       "    </tr>\n",
       "    <tr>\n",
       "      <th>8</th>\n",
       "      <td>16</td>\n",
       "      <td>3</td>\n",
       "      <td>2</td>\n",
       "      <td>5</td>\n",
       "      <td>0</td>\n",
       "      <td>3</td>\n",
       "      <td>3</td>\n",
       "      <td>3</td>\n",
       "      <td>3</td>\n",
       "      <td>0</td>\n",
       "      <td>nan</td>\n",
       "      <td>nan</td>\n",
       "      <td>0</td>\n",
       "      <td>0</td>\n",
       "      <td>nan</td>\n",
       "    </tr>\n",
       "    <tr>\n",
       "      <th>9</th>\n",
       "      <td>17</td>\n",
       "      <td>4</td>\n",
       "      <td>2</td>\n",
       "      <td>4</td>\n",
       "      <td>0</td>\n",
       "      <td>4</td>\n",
       "      <td>4</td>\n",
       "      <td>3</td>\n",
       "      <td>4</td>\n",
       "      <td>0</td>\n",
       "      <td>nan</td>\n",
       "      <td>nan</td>\n",
       "      <td>0</td>\n",
       "      <td>0</td>\n",
       "      <td>1</td>\n",
       "    </tr>\n",
       "    <tr>\n",
       "      <th>10</th>\n",
       "      <td>18</td>\n",
       "      <td>4</td>\n",
       "      <td>2</td>\n",
       "      <td>5</td>\n",
       "      <td>1</td>\n",
       "      <td>5</td>\n",
       "      <td>5</td>\n",
       "      <td>5</td>\n",
       "      <td>5</td>\n",
       "      <td>2</td>\n",
       "      <td>3</td>\n",
       "      <td>0</td>\n",
       "      <td>1</td>\n",
       "      <td>1</td>\n",
       "      <td>1</td>\n",
       "    </tr>\n",
       "  </tbody>\n",
       "</table>\n",
       "</div>"
      ],
      "text/plain": [
       "    ID  DUR  FREQ  NRS  RAD  PIDAY  PIWORK  PPISOC  PICHOR  LBS  LBST  FUS  \\\n",
       "0    5    1     2    6    0      3       4       4       3    0   nan  nan   \n",
       "1    8    4     2    3    1      2       2       3       3    0   nan  nan   \n",
       "2   10    3     3    2    1      2       2       1       2    0   nan  nan   \n",
       "3   11    4     2    7    1      4       4       4       4    0   nan  nan   \n",
       "4   12    3     3    6    1      3       4       2       3    0   nan  nan   \n",
       "5   13    3     3    7    1      4       4       4       4    0   nan  nan   \n",
       "6   14    3     1    2    0      1       2       1       2    0   nan  nan   \n",
       "7   15    4     2    1    0      2       1       1       2    0   nan  nan   \n",
       "8   16    3     2    5    0      3       3       3       3    0   nan  nan   \n",
       "9   17    4     2    4    0      4       4       3       4    0   nan  nan   \n",
       "10  18    4     2    5    1      5       5       5       5    2     3    0   \n",
       "\n",
       "    OPI  INJ  EXE  \n",
       "0     1    1    1  \n",
       "1     0    0    1  \n",
       "2     0    1    1  \n",
       "3     0    0    1  \n",
       "4     0    0    0  \n",
       "5     0    0    1  \n",
       "6   nan    1    1  \n",
       "7     1  nan    1  \n",
       "8     0    0  nan  \n",
       "9     0    0    1  \n",
       "10    1    1    1  "
      ]
     },
     "execution_count": 132,
     "metadata": {},
     "output_type": "execute_result"
    }
   ],
   "source": [
    "# dislay\n",
    "df.ix[0:10, 0:15]"
   ]
  },
  {
   "cell_type": "code",
   "execution_count": 133,
   "metadata": {
    "collapsed": false
   },
   "outputs": [],
   "source": [
    "#df.ix[0:10, 15:30]"
   ]
  },
  {
   "cell_type": "code",
   "execution_count": 134,
   "metadata": {
    "collapsed": false
   },
   "outputs": [],
   "source": [
    "#df.ix[0:10, 30:45]"
   ]
  },
  {
   "cell_type": "code",
   "execution_count": 135,
   "metadata": {
    "collapsed": false
   },
   "outputs": [],
   "source": [
    "#df.ix[0:10, 45:60]"
   ]
  },
  {
   "cell_type": "markdown",
   "metadata": {},
   "source": [
    "#### Drop columns with a high number of NA values\n",
    "\n",
    "These columns likely correlate to questions with few resonses. See legend above."
   ]
  },
  {
   "cell_type": "code",
   "execution_count": 136,
   "metadata": {
    "collapsed": false
   },
   "outputs": [
    {
     "data": {
      "text/html": [
       "<div>\n",
       "<table border=\"1\" class=\"dataframe\">\n",
       "  <thead>\n",
       "    <tr style=\"text-align: right;\">\n",
       "      <th></th>\n",
       "      <th>ID</th>\n",
       "      <th>DUR</th>\n",
       "      <th>FREQ</th>\n",
       "      <th>NRS</th>\n",
       "      <th>RAD</th>\n",
       "      <th>PIDAY</th>\n",
       "      <th>PIWORK</th>\n",
       "      <th>PPISOC</th>\n",
       "      <th>PICHOR</th>\n",
       "      <th>LBS</th>\n",
       "      <th>...</th>\n",
       "      <th>SEX</th>\n",
       "      <th>EMP</th>\n",
       "      <th>EDU</th>\n",
       "      <th>HT</th>\n",
       "      <th>WT</th>\n",
       "      <th>RACE</th>\n",
       "      <th>PI</th>\n",
       "      <th>FUN</th>\n",
       "      <th>DEP</th>\n",
       "      <th>SLEEP</th>\n",
       "    </tr>\n",
       "  </thead>\n",
       "  <tbody>\n",
       "    <tr>\n",
       "      <th>0</th>\n",
       "      <td>5</td>\n",
       "      <td>1</td>\n",
       "      <td>2</td>\n",
       "      <td>6</td>\n",
       "      <td>0</td>\n",
       "      <td>3</td>\n",
       "      <td>4</td>\n",
       "      <td>4</td>\n",
       "      <td>3</td>\n",
       "      <td>0</td>\n",
       "      <td>...</td>\n",
       "      <td>0</td>\n",
       "      <td>1</td>\n",
       "      <td>0</td>\n",
       "      <td>72</td>\n",
       "      <td>123</td>\n",
       "      <td>5</td>\n",
       "      <td>14</td>\n",
       "      <td>11</td>\n",
       "      <td>20</td>\n",
       "      <td>11</td>\n",
       "    </tr>\n",
       "    <tr>\n",
       "      <th>1</th>\n",
       "      <td>8</td>\n",
       "      <td>4</td>\n",
       "      <td>2</td>\n",
       "      <td>3</td>\n",
       "      <td>1</td>\n",
       "      <td>2</td>\n",
       "      <td>2</td>\n",
       "      <td>3</td>\n",
       "      <td>3</td>\n",
       "      <td>0</td>\n",
       "      <td>...</td>\n",
       "      <td>0</td>\n",
       "      <td>1</td>\n",
       "      <td>6</td>\n",
       "      <td>69</td>\n",
       "      <td>175</td>\n",
       "      <td>5</td>\n",
       "      <td>10</td>\n",
       "      <td>7</td>\n",
       "      <td>12</td>\n",
       "      <td>9</td>\n",
       "    </tr>\n",
       "    <tr>\n",
       "      <th>2</th>\n",
       "      <td>10</td>\n",
       "      <td>3</td>\n",
       "      <td>3</td>\n",
       "      <td>2</td>\n",
       "      <td>1</td>\n",
       "      <td>2</td>\n",
       "      <td>2</td>\n",
       "      <td>1</td>\n",
       "      <td>2</td>\n",
       "      <td>0</td>\n",
       "      <td>...</td>\n",
       "      <td>1</td>\n",
       "      <td>1</td>\n",
       "      <td>8</td>\n",
       "      <td>67</td>\n",
       "      <td>130</td>\n",
       "      <td>5</td>\n",
       "      <td>7</td>\n",
       "      <td>5</td>\n",
       "      <td>10</td>\n",
       "      <td>10</td>\n",
       "    </tr>\n",
       "    <tr>\n",
       "      <th>3</th>\n",
       "      <td>11</td>\n",
       "      <td>4</td>\n",
       "      <td>2</td>\n",
       "      <td>7</td>\n",
       "      <td>1</td>\n",
       "      <td>4</td>\n",
       "      <td>4</td>\n",
       "      <td>4</td>\n",
       "      <td>4</td>\n",
       "      <td>0</td>\n",
       "      <td>...</td>\n",
       "      <td>1</td>\n",
       "      <td>1</td>\n",
       "      <td>6</td>\n",
       "      <td>62</td>\n",
       "      <td>108</td>\n",
       "      <td>5</td>\n",
       "      <td>16</td>\n",
       "      <td>12</td>\n",
       "      <td>18</td>\n",
       "      <td>17</td>\n",
       "    </tr>\n",
       "    <tr>\n",
       "      <th>4</th>\n",
       "      <td>12</td>\n",
       "      <td>3</td>\n",
       "      <td>3</td>\n",
       "      <td>6</td>\n",
       "      <td>1</td>\n",
       "      <td>3</td>\n",
       "      <td>4</td>\n",
       "      <td>2</td>\n",
       "      <td>3</td>\n",
       "      <td>0</td>\n",
       "      <td>...</td>\n",
       "      <td>0</td>\n",
       "      <td>1</td>\n",
       "      <td>4</td>\n",
       "      <td>74</td>\n",
       "      <td>260</td>\n",
       "      <td>5</td>\n",
       "      <td>12</td>\n",
       "      <td>12</td>\n",
       "      <td>7</td>\n",
       "      <td>13</td>\n",
       "    </tr>\n",
       "    <tr>\n",
       "      <th>5</th>\n",
       "      <td>13</td>\n",
       "      <td>3</td>\n",
       "      <td>3</td>\n",
       "      <td>7</td>\n",
       "      <td>1</td>\n",
       "      <td>4</td>\n",
       "      <td>4</td>\n",
       "      <td>4</td>\n",
       "      <td>4</td>\n",
       "      <td>0</td>\n",
       "      <td>...</td>\n",
       "      <td>1</td>\n",
       "      <td>1</td>\n",
       "      <td>7</td>\n",
       "      <td>64</td>\n",
       "      <td>170</td>\n",
       "      <td>5</td>\n",
       "      <td>16</td>\n",
       "      <td>13</td>\n",
       "      <td>6</td>\n",
       "      <td>12</td>\n",
       "    </tr>\n",
       "    <tr>\n",
       "      <th>6</th>\n",
       "      <td>14</td>\n",
       "      <td>3</td>\n",
       "      <td>1</td>\n",
       "      <td>2</td>\n",
       "      <td>0</td>\n",
       "      <td>1</td>\n",
       "      <td>2</td>\n",
       "      <td>1</td>\n",
       "      <td>2</td>\n",
       "      <td>0</td>\n",
       "      <td>...</td>\n",
       "      <td>1</td>\n",
       "      <td>1</td>\n",
       "      <td>7</td>\n",
       "      <td>66</td>\n",
       "      <td>198</td>\n",
       "      <td>5</td>\n",
       "      <td>6</td>\n",
       "      <td>nan</td>\n",
       "      <td>5</td>\n",
       "      <td>13</td>\n",
       "    </tr>\n",
       "    <tr>\n",
       "      <th>7</th>\n",
       "      <td>15</td>\n",
       "      <td>4</td>\n",
       "      <td>2</td>\n",
       "      <td>1</td>\n",
       "      <td>0</td>\n",
       "      <td>2</td>\n",
       "      <td>1</td>\n",
       "      <td>1</td>\n",
       "      <td>2</td>\n",
       "      <td>0</td>\n",
       "      <td>...</td>\n",
       "      <td>1</td>\n",
       "      <td>1</td>\n",
       "      <td>3</td>\n",
       "      <td>64</td>\n",
       "      <td>125</td>\n",
       "      <td>5</td>\n",
       "      <td>6</td>\n",
       "      <td>nan</td>\n",
       "      <td>7</td>\n",
       "      <td>7</td>\n",
       "    </tr>\n",
       "    <tr>\n",
       "      <th>8</th>\n",
       "      <td>16</td>\n",
       "      <td>3</td>\n",
       "      <td>2</td>\n",
       "      <td>5</td>\n",
       "      <td>0</td>\n",
       "      <td>3</td>\n",
       "      <td>3</td>\n",
       "      <td>3</td>\n",
       "      <td>3</td>\n",
       "      <td>0</td>\n",
       "      <td>...</td>\n",
       "      <td>1</td>\n",
       "      <td>1</td>\n",
       "      <td>7</td>\n",
       "      <td>68</td>\n",
       "      <td>185</td>\n",
       "      <td>5</td>\n",
       "      <td>12</td>\n",
       "      <td>nan</td>\n",
       "      <td>nan</td>\n",
       "      <td>6</td>\n",
       "    </tr>\n",
       "    <tr>\n",
       "      <th>9</th>\n",
       "      <td>17</td>\n",
       "      <td>4</td>\n",
       "      <td>2</td>\n",
       "      <td>4</td>\n",
       "      <td>0</td>\n",
       "      <td>4</td>\n",
       "      <td>4</td>\n",
       "      <td>3</td>\n",
       "      <td>4</td>\n",
       "      <td>0</td>\n",
       "      <td>...</td>\n",
       "      <td>0</td>\n",
       "      <td>1</td>\n",
       "      <td>9</td>\n",
       "      <td>68</td>\n",
       "      <td>190</td>\n",
       "      <td>5</td>\n",
       "      <td>15</td>\n",
       "      <td>9</td>\n",
       "      <td>9</td>\n",
       "      <td>10</td>\n",
       "    </tr>\n",
       "  </tbody>\n",
       "</table>\n",
       "<p>10 rows × 49 columns</p>\n",
       "</div>"
      ],
      "text/plain": [
       "   ID  DUR  FREQ  NRS  RAD  PIDAY  PIWORK  PPISOC  PICHOR  LBS  ...    SEX  \\\n",
       "0   5    1     2    6    0      3       4       4       3    0  ...      0   \n",
       "1   8    4     2    3    1      2       2       3       3    0  ...      0   \n",
       "2  10    3     3    2    1      2       2       1       2    0  ...      1   \n",
       "3  11    4     2    7    1      4       4       4       4    0  ...      1   \n",
       "4  12    3     3    6    1      3       4       2       3    0  ...      0   \n",
       "5  13    3     3    7    1      4       4       4       4    0  ...      1   \n",
       "6  14    3     1    2    0      1       2       1       2    0  ...      1   \n",
       "7  15    4     2    1    0      2       1       1       2    0  ...      1   \n",
       "8  16    3     2    5    0      3       3       3       3    0  ...      1   \n",
       "9  17    4     2    4    0      4       4       3       4    0  ...      0   \n",
       "\n",
       "   EMP  EDU  HT  WT  RACE  PI  FUN  DEP  SLEEP  \n",
       "0    1    0  72 123     5  14   11   20     11  \n",
       "1    1    6  69 175     5  10    7   12      9  \n",
       "2    1    8  67 130     5   7    5   10     10  \n",
       "3    1    6  62 108     5  16   12   18     17  \n",
       "4    1    4  74 260     5  12   12    7     13  \n",
       "5    1    7  64 170     5  16   13    6     12  \n",
       "6    1    7  66 198     5   6  nan    5     13  \n",
       "7    1    3  64 125     5   6  nan    7      7  \n",
       "8    1    7  68 185     5  12  nan  nan      6  \n",
       "9    1    9  68 190     5  15    9    9     10  \n",
       "\n",
       "[10 rows x 49 columns]"
      ]
     },
     "execution_count": 136,
     "metadata": {},
     "output_type": "execute_result"
    }
   ],
   "source": [
    "df=df.drop(['HIS','NAT','ASA','BL','PAC','W','UNK','NA.','LBST','FUS','BL','PAC','W','UNK','NA.','SMOK'], axis=1)\n",
    "df.head(10)"
   ]
  },
  {
   "cell_type": "markdown",
   "metadata": {},
   "source": [
    "#### Set remaining NA values to a default"
   ]
  },
  {
   "cell_type": "code",
   "execution_count": 137,
   "metadata": {
    "collapsed": false
   },
   "outputs": [
    {
     "data": {
      "text/plain": [
       "Index(['ID', 'DUR', 'FREQ', 'NRS', 'RAD', 'PIDAY', 'PIWORK', 'PPISOC',\n",
       "       'PICHOR', 'LBS', 'OPI', 'INJ', 'EXE', 'PSY', 'UNEMP', 'DIS', 'ABD',\n",
       "       'JOI', 'HEA', 'FIB', 'CHOR', 'STAIR', 'W15', 'ERANDS', 'WORTHL',\n",
       "       'HELPL', 'DEPRES', 'HOPEL', 'SLEEPQ', 'SREFR', 'SPROB', 'SONSET',\n",
       "       'CAT.SAFE', 'CAT.NEVER', 'LIT', 'AS', 'ETOH', 'SAHELP', 'AGE', 'SEX',\n",
       "       'EMP', 'EDU', 'HT', 'WT', 'RACE', 'PI', 'FUN', 'DEP', 'SLEEP'],\n",
       "      dtype='object')"
      ]
     },
     "execution_count": 137,
     "metadata": {},
     "output_type": "execute_result"
    }
   ],
   "source": [
    "df.columns"
   ]
  },
  {
   "cell_type": "code",
   "execution_count": 138,
   "metadata": {
    "collapsed": false
   },
   "outputs": [
    {
     "data": {
      "text/html": [
       "<div>\n",
       "<table border=\"1\" class=\"dataframe\">\n",
       "  <thead>\n",
       "    <tr style=\"text-align: right;\">\n",
       "      <th></th>\n",
       "      <th>ID</th>\n",
       "      <th>DUR</th>\n",
       "      <th>FREQ</th>\n",
       "      <th>NRS</th>\n",
       "      <th>RAD</th>\n",
       "      <th>PIDAY</th>\n",
       "      <th>PIWORK</th>\n",
       "      <th>PPISOC</th>\n",
       "      <th>PICHOR</th>\n",
       "      <th>LBS</th>\n",
       "      <th>...</th>\n",
       "      <th>SEX</th>\n",
       "      <th>EMP</th>\n",
       "      <th>EDU</th>\n",
       "      <th>HT</th>\n",
       "      <th>WT</th>\n",
       "      <th>RACE</th>\n",
       "      <th>PI</th>\n",
       "      <th>FUN</th>\n",
       "      <th>DEP</th>\n",
       "      <th>SLEEP</th>\n",
       "    </tr>\n",
       "  </thead>\n",
       "  <tbody>\n",
       "    <tr>\n",
       "      <th>0</th>\n",
       "      <td>5</td>\n",
       "      <td>1</td>\n",
       "      <td>2</td>\n",
       "      <td>6</td>\n",
       "      <td>0</td>\n",
       "      <td>3</td>\n",
       "      <td>4</td>\n",
       "      <td>4</td>\n",
       "      <td>3</td>\n",
       "      <td>0</td>\n",
       "      <td>...</td>\n",
       "      <td>0</td>\n",
       "      <td>1</td>\n",
       "      <td>0</td>\n",
       "      <td>72</td>\n",
       "      <td>123</td>\n",
       "      <td>5</td>\n",
       "      <td>14</td>\n",
       "      <td>11</td>\n",
       "      <td>20</td>\n",
       "      <td>11</td>\n",
       "    </tr>\n",
       "    <tr>\n",
       "      <th>1</th>\n",
       "      <td>8</td>\n",
       "      <td>4</td>\n",
       "      <td>2</td>\n",
       "      <td>3</td>\n",
       "      <td>1</td>\n",
       "      <td>2</td>\n",
       "      <td>2</td>\n",
       "      <td>3</td>\n",
       "      <td>3</td>\n",
       "      <td>0</td>\n",
       "      <td>...</td>\n",
       "      <td>0</td>\n",
       "      <td>1</td>\n",
       "      <td>6</td>\n",
       "      <td>69</td>\n",
       "      <td>175</td>\n",
       "      <td>5</td>\n",
       "      <td>10</td>\n",
       "      <td>7</td>\n",
       "      <td>12</td>\n",
       "      <td>9</td>\n",
       "    </tr>\n",
       "    <tr>\n",
       "      <th>2</th>\n",
       "      <td>10</td>\n",
       "      <td>3</td>\n",
       "      <td>3</td>\n",
       "      <td>2</td>\n",
       "      <td>1</td>\n",
       "      <td>2</td>\n",
       "      <td>2</td>\n",
       "      <td>1</td>\n",
       "      <td>2</td>\n",
       "      <td>0</td>\n",
       "      <td>...</td>\n",
       "      <td>1</td>\n",
       "      <td>1</td>\n",
       "      <td>8</td>\n",
       "      <td>67</td>\n",
       "      <td>130</td>\n",
       "      <td>5</td>\n",
       "      <td>7</td>\n",
       "      <td>5</td>\n",
       "      <td>10</td>\n",
       "      <td>10</td>\n",
       "    </tr>\n",
       "    <tr>\n",
       "      <th>3</th>\n",
       "      <td>11</td>\n",
       "      <td>4</td>\n",
       "      <td>2</td>\n",
       "      <td>7</td>\n",
       "      <td>1</td>\n",
       "      <td>4</td>\n",
       "      <td>4</td>\n",
       "      <td>4</td>\n",
       "      <td>4</td>\n",
       "      <td>0</td>\n",
       "      <td>...</td>\n",
       "      <td>1</td>\n",
       "      <td>1</td>\n",
       "      <td>6</td>\n",
       "      <td>62</td>\n",
       "      <td>108</td>\n",
       "      <td>5</td>\n",
       "      <td>16</td>\n",
       "      <td>12</td>\n",
       "      <td>18</td>\n",
       "      <td>17</td>\n",
       "    </tr>\n",
       "    <tr>\n",
       "      <th>4</th>\n",
       "      <td>12</td>\n",
       "      <td>3</td>\n",
       "      <td>3</td>\n",
       "      <td>6</td>\n",
       "      <td>1</td>\n",
       "      <td>3</td>\n",
       "      <td>4</td>\n",
       "      <td>2</td>\n",
       "      <td>3</td>\n",
       "      <td>0</td>\n",
       "      <td>...</td>\n",
       "      <td>0</td>\n",
       "      <td>1</td>\n",
       "      <td>4</td>\n",
       "      <td>74</td>\n",
       "      <td>260</td>\n",
       "      <td>5</td>\n",
       "      <td>12</td>\n",
       "      <td>12</td>\n",
       "      <td>7</td>\n",
       "      <td>13</td>\n",
       "    </tr>\n",
       "    <tr>\n",
       "      <th>5</th>\n",
       "      <td>13</td>\n",
       "      <td>3</td>\n",
       "      <td>3</td>\n",
       "      <td>7</td>\n",
       "      <td>1</td>\n",
       "      <td>4</td>\n",
       "      <td>4</td>\n",
       "      <td>4</td>\n",
       "      <td>4</td>\n",
       "      <td>0</td>\n",
       "      <td>...</td>\n",
       "      <td>1</td>\n",
       "      <td>1</td>\n",
       "      <td>7</td>\n",
       "      <td>64</td>\n",
       "      <td>170</td>\n",
       "      <td>5</td>\n",
       "      <td>16</td>\n",
       "      <td>13</td>\n",
       "      <td>6</td>\n",
       "      <td>12</td>\n",
       "    </tr>\n",
       "    <tr>\n",
       "      <th>6</th>\n",
       "      <td>14</td>\n",
       "      <td>3</td>\n",
       "      <td>1</td>\n",
       "      <td>2</td>\n",
       "      <td>0</td>\n",
       "      <td>1</td>\n",
       "      <td>2</td>\n",
       "      <td>1</td>\n",
       "      <td>2</td>\n",
       "      <td>0</td>\n",
       "      <td>...</td>\n",
       "      <td>1</td>\n",
       "      <td>1</td>\n",
       "      <td>7</td>\n",
       "      <td>66</td>\n",
       "      <td>198</td>\n",
       "      <td>5</td>\n",
       "      <td>6</td>\n",
       "      <td>0</td>\n",
       "      <td>5</td>\n",
       "      <td>13</td>\n",
       "    </tr>\n",
       "    <tr>\n",
       "      <th>7</th>\n",
       "      <td>15</td>\n",
       "      <td>4</td>\n",
       "      <td>2</td>\n",
       "      <td>1</td>\n",
       "      <td>0</td>\n",
       "      <td>2</td>\n",
       "      <td>1</td>\n",
       "      <td>1</td>\n",
       "      <td>2</td>\n",
       "      <td>0</td>\n",
       "      <td>...</td>\n",
       "      <td>1</td>\n",
       "      <td>1</td>\n",
       "      <td>3</td>\n",
       "      <td>64</td>\n",
       "      <td>125</td>\n",
       "      <td>5</td>\n",
       "      <td>6</td>\n",
       "      <td>0</td>\n",
       "      <td>7</td>\n",
       "      <td>7</td>\n",
       "    </tr>\n",
       "    <tr>\n",
       "      <th>8</th>\n",
       "      <td>16</td>\n",
       "      <td>3</td>\n",
       "      <td>2</td>\n",
       "      <td>5</td>\n",
       "      <td>0</td>\n",
       "      <td>3</td>\n",
       "      <td>3</td>\n",
       "      <td>3</td>\n",
       "      <td>3</td>\n",
       "      <td>0</td>\n",
       "      <td>...</td>\n",
       "      <td>1</td>\n",
       "      <td>1</td>\n",
       "      <td>7</td>\n",
       "      <td>68</td>\n",
       "      <td>185</td>\n",
       "      <td>5</td>\n",
       "      <td>12</td>\n",
       "      <td>0</td>\n",
       "      <td>0</td>\n",
       "      <td>6</td>\n",
       "    </tr>\n",
       "    <tr>\n",
       "      <th>9</th>\n",
       "      <td>17</td>\n",
       "      <td>4</td>\n",
       "      <td>2</td>\n",
       "      <td>4</td>\n",
       "      <td>0</td>\n",
       "      <td>4</td>\n",
       "      <td>4</td>\n",
       "      <td>3</td>\n",
       "      <td>4</td>\n",
       "      <td>0</td>\n",
       "      <td>...</td>\n",
       "      <td>0</td>\n",
       "      <td>1</td>\n",
       "      <td>9</td>\n",
       "      <td>68</td>\n",
       "      <td>190</td>\n",
       "      <td>5</td>\n",
       "      <td>15</td>\n",
       "      <td>9</td>\n",
       "      <td>9</td>\n",
       "      <td>10</td>\n",
       "    </tr>\n",
       "  </tbody>\n",
       "</table>\n",
       "<p>10 rows × 49 columns</p>\n",
       "</div>"
      ],
      "text/plain": [
       "   ID  DUR  FREQ  NRS  RAD  PIDAY  PIWORK  PPISOC  PICHOR  LBS  ...    SEX  \\\n",
       "0   5    1     2    6    0      3       4       4       3    0  ...      0   \n",
       "1   8    4     2    3    1      2       2       3       3    0  ...      0   \n",
       "2  10    3     3    2    1      2       2       1       2    0  ...      1   \n",
       "3  11    4     2    7    1      4       4       4       4    0  ...      1   \n",
       "4  12    3     3    6    1      3       4       2       3    0  ...      0   \n",
       "5  13    3     3    7    1      4       4       4       4    0  ...      1   \n",
       "6  14    3     1    2    0      1       2       1       2    0  ...      1   \n",
       "7  15    4     2    1    0      2       1       1       2    0  ...      1   \n",
       "8  16    3     2    5    0      3       3       3       3    0  ...      1   \n",
       "9  17    4     2    4    0      4       4       3       4    0  ...      0   \n",
       "\n",
       "   EMP  EDU  HT  WT  RACE  PI  FUN  DEP  SLEEP  \n",
       "0    1    0  72 123     5  14   11   20     11  \n",
       "1    1    6  69 175     5  10    7   12      9  \n",
       "2    1    8  67 130     5   7    5   10     10  \n",
       "3    1    6  62 108     5  16   12   18     17  \n",
       "4    1    4  74 260     5  12   12    7     13  \n",
       "5    1    7  64 170     5  16   13    6     12  \n",
       "6    1    7  66 198     5   6    0    5     13  \n",
       "7    1    3  64 125     5   6    0    7      7  \n",
       "8    1    7  68 185     5  12    0    0      6  \n",
       "9    1    9  68 190     5  15    9    9     10  \n",
       "\n",
       "[10 rows x 49 columns]"
      ]
     },
     "execution_count": 138,
     "metadata": {},
     "output_type": "execute_result"
    }
   ],
   "source": [
    "# set remaining NA to 0\n",
    "df.fillna(0, inplace=True)\n",
    "df.head(10)"
   ]
  },
  {
   "cell_type": "markdown",
   "metadata": {},
   "source": [
    "#### Define data types\n",
    "\n",
    "Ensure that survey attribures are interpreted by the correct datat type."
   ]
  },
  {
   "cell_type": "code",
   "execution_count": 139,
   "metadata": {
    "collapsed": false
   },
   "outputs": [],
   "source": [
    "df['ID']=df['ID']\n",
    "df['DUR']=df['DUR'].astype('int')\n",
    "df['FREQ']=df['FREQ'].astype('int')\n",
    "df['NRS']=df['NRS'].astype('int')\n",
    "df['RAD']=df['RAD'].astype('category')\n",
    "\n",
    "df['PIDAY']=df['PIDAY'].astype('int')\n",
    "df['PIWORK']=df['PIWORK'].astype('int')\n",
    "df['PPISOC']=df['PPISOC'].astype('int')\n",
    "df['PICHOR']=df['PICHOR'].astype('int')\n",
    "\n",
    "df['LBS']=df['LBS'].astype('category')\n",
    "df['OPI']=df['OPI'].astype('category')\n",
    "df['INJ']=df['INJ'].astype('category')\n",
    "df['EXE']=df['EXE'].astype('category')\n",
    "df['PSY']=df['PSY'].astype('category')\n",
    "df['UNEMP']=df['UNEMP'].astype('category')\n",
    "df['DIS']=df['DIS'].astype('category')\n",
    "df['ABD']=df['ABD'].astype('int')\n",
    "df['JOI']=df['JOI'].astype('int')\n",
    "df['HEA']=df['HEA'].astype('int')\n",
    "df['FIB']=df['FIB'].astype('int')\n",
    "df['CHOR']=df['CHOR'].astype('int')\n",
    "df['STAIR']=df['STAIR'].astype('int')\n",
    "df['W15']=df['W15'].astype('int')\n",
    "df['ERANDS']=df['ERANDS'].astype('int')\n",
    "df['WORTHL']=df['WORTHL'].astype('int')\n",
    "df['HELPL']=df['HELPL'].astype('int')\n",
    "df['DEPRES']=df['DEPRES'].astype('int')\n",
    "df['HOPEL']=df['HOPEL'].astype('int')\n",
    "df['SLEEPQ']=df['SLEEPQ'].astype('int')\n",
    "df['SREFR']=df['SREFR'].astype('int')\n",
    "df['SPROB']=df['SPROB'].astype('int')\n",
    "df['SONSET']=df['SONSET'].astype('int')\n",
    "df['CAT.SAFE']=df['CAT.SAFE'].astype('int')\n",
    "df['CAT.NEVER']=df['CAT.NEVER'].astype('int')\n",
    "df['LIT']=df['LIT'].astype('int')\n",
    "df['AS']=df['AS'].astype('int')\n",
    "df['ETOH']=df['ETOH'].astype('int')\n",
    "df['SAHELP']=df['SAHELP'].astype('int')\n",
    "df['AGE']=df['AGE'].astype('int')\n",
    "df['SEX']=df['SEX'].astype('category')\n",
    "df['EMP']=df['EMP'].astype('category')\n",
    "df['EDU']=df['EDU'].astype('int')\n",
    "df['HT']=df['HT'].astype('int')\n",
    "df['WT']=df['WT'].astype('int')\n",
    "df['RACE']=df['RACE'].astype('category')\n",
    "df['PI']=df['PI'].astype('int')\n",
    "df['FUN']=df['FUN'].astype('int')\n",
    "df['DEP']=df['DEP'].astype('int')\n",
    "df['SLEEP']=df['SLEEP'].astype('int')"
   ]
  },
  {
   "cell_type": "markdown",
   "metadata": {
    "collapsed": true
   },
   "source": [
    "### Data analysis\n"
   ]
  },
  {
   "cell_type": "markdown",
   "metadata": {},
   "source": [
    "#### Pain chi-squared goodness-of-fit test\n",
    "    \n",
    "Tests whether the distribution of sample categorical data matches an expected distribution.\n",
    "Chi-squared tests are based on the so-called chi-squared statistic. You calculate the chi-squared statistic with the following formula:\n",
    "\n",
    "$sum(\\dfrac{(observed−expected)^2}{expected})$  \n",
    "\n",
    "\n",
    "In the formula, observed is the actual observed count for each category and expected is the expected count based on the distribution of the population for the corresponding category. We can use this to see if the value of any factor (categorical) attribute affects the distribution of another attribute. For the purposes of this analysis we will assume the \"population\" is represented by the entire survey sample."
   ]
  },
  {
   "cell_type": "markdown",
   "metadata": {},
   "source": [
    "#### Data distribution\n",
    "\n",
    "Note distribution will not properly reflect categorical attributes."
   ]
  },
  {
   "cell_type": "code",
   "execution_count": 140,
   "metadata": {
    "collapsed": false
   },
   "outputs": [
    {
     "data": {
      "text/html": [
       "<div>\n",
       "<table border=\"1\" class=\"dataframe\">\n",
       "  <thead>\n",
       "    <tr style=\"text-align: right;\">\n",
       "      <th></th>\n",
       "      <th>ID</th>\n",
       "      <th>DUR</th>\n",
       "      <th>FREQ</th>\n",
       "      <th>NRS</th>\n",
       "      <th>PIDAY</th>\n",
       "      <th>PIWORK</th>\n",
       "      <th>PPISOC</th>\n",
       "      <th>PICHOR</th>\n",
       "      <th>ABD</th>\n",
       "      <th>JOI</th>\n",
       "      <th>...</th>\n",
       "      <th>ETOH</th>\n",
       "      <th>SAHELP</th>\n",
       "      <th>AGE</th>\n",
       "      <th>EDU</th>\n",
       "      <th>HT</th>\n",
       "      <th>WT</th>\n",
       "      <th>PI</th>\n",
       "      <th>FUN</th>\n",
       "      <th>DEP</th>\n",
       "      <th>SLEEP</th>\n",
       "    </tr>\n",
       "  </thead>\n",
       "  <tbody>\n",
       "    <tr>\n",
       "      <th>count</th>\n",
       "      <td>200</td>\n",
       "      <td>200</td>\n",
       "      <td>200</td>\n",
       "      <td>200</td>\n",
       "      <td>200</td>\n",
       "      <td>200</td>\n",
       "      <td>200</td>\n",
       "      <td>200</td>\n",
       "      <td>200</td>\n",
       "      <td>200</td>\n",
       "      <td>...</td>\n",
       "      <td>200</td>\n",
       "      <td>200</td>\n",
       "      <td>200</td>\n",
       "      <td>200</td>\n",
       "      <td>200</td>\n",
       "      <td>200</td>\n",
       "      <td>200</td>\n",
       "      <td>200</td>\n",
       "      <td>200</td>\n",
       "      <td>200</td>\n",
       "    </tr>\n",
       "    <tr>\n",
       "      <th>mean</th>\n",
       "      <td>116</td>\n",
       "      <td>4</td>\n",
       "      <td>2</td>\n",
       "      <td>5</td>\n",
       "      <td>3</td>\n",
       "      <td>3</td>\n",
       "      <td>3</td>\n",
       "      <td>3</td>\n",
       "      <td>0</td>\n",
       "      <td>1</td>\n",
       "      <td>...</td>\n",
       "      <td>0</td>\n",
       "      <td>1</td>\n",
       "      <td>45</td>\n",
       "      <td>5</td>\n",
       "      <td>63</td>\n",
       "      <td>164</td>\n",
       "      <td>13</td>\n",
       "      <td>9</td>\n",
       "      <td>3</td>\n",
       "      <td>13</td>\n",
       "    </tr>\n",
       "    <tr>\n",
       "      <th>std</th>\n",
       "      <td>69</td>\n",
       "      <td>1</td>\n",
       "      <td>1</td>\n",
       "      <td>2</td>\n",
       "      <td>1</td>\n",
       "      <td>1</td>\n",
       "      <td>1</td>\n",
       "      <td>1</td>\n",
       "      <td>1</td>\n",
       "      <td>1</td>\n",
       "      <td>...</td>\n",
       "      <td>1</td>\n",
       "      <td>0</td>\n",
       "      <td>15</td>\n",
       "      <td>2</td>\n",
       "      <td>17</td>\n",
       "      <td>58</td>\n",
       "      <td>4</td>\n",
       "      <td>4</td>\n",
       "      <td>5</td>\n",
       "      <td>4</td>\n",
       "    </tr>\n",
       "    <tr>\n",
       "      <th>min</th>\n",
       "      <td>5</td>\n",
       "      <td>1</td>\n",
       "      <td>1</td>\n",
       "      <td>0</td>\n",
       "      <td>1</td>\n",
       "      <td>1</td>\n",
       "      <td>0</td>\n",
       "      <td>0</td>\n",
       "      <td>0</td>\n",
       "      <td>0</td>\n",
       "      <td>...</td>\n",
       "      <td>0</td>\n",
       "      <td>0</td>\n",
       "      <td>0</td>\n",
       "      <td>0</td>\n",
       "      <td>0</td>\n",
       "      <td>0</td>\n",
       "      <td>0</td>\n",
       "      <td>0</td>\n",
       "      <td>0</td>\n",
       "      <td>0</td>\n",
       "    </tr>\n",
       "    <tr>\n",
       "      <th>25%</th>\n",
       "      <td>58</td>\n",
       "      <td>3</td>\n",
       "      <td>2</td>\n",
       "      <td>4</td>\n",
       "      <td>3</td>\n",
       "      <td>3</td>\n",
       "      <td>2</td>\n",
       "      <td>2</td>\n",
       "      <td>0</td>\n",
       "      <td>1</td>\n",
       "      <td>...</td>\n",
       "      <td>0</td>\n",
       "      <td>1</td>\n",
       "      <td>35</td>\n",
       "      <td>3</td>\n",
       "      <td>64</td>\n",
       "      <td>140</td>\n",
       "      <td>11</td>\n",
       "      <td>6</td>\n",
       "      <td>0</td>\n",
       "      <td>10</td>\n",
       "    </tr>\n",
       "    <tr>\n",
       "      <th>50%</th>\n",
       "      <td>108</td>\n",
       "      <td>4</td>\n",
       "      <td>3</td>\n",
       "      <td>6</td>\n",
       "      <td>3</td>\n",
       "      <td>3</td>\n",
       "      <td>3</td>\n",
       "      <td>4</td>\n",
       "      <td>0</td>\n",
       "      <td>1</td>\n",
       "      <td>...</td>\n",
       "      <td>0</td>\n",
       "      <td>1</td>\n",
       "      <td>46</td>\n",
       "      <td>6</td>\n",
       "      <td>66</td>\n",
       "      <td>165</td>\n",
       "      <td>13</td>\n",
       "      <td>9</td>\n",
       "      <td>0</td>\n",
       "      <td>12</td>\n",
       "    </tr>\n",
       "    <tr>\n",
       "      <th>75%</th>\n",
       "      <td>172</td>\n",
       "      <td>4</td>\n",
       "      <td>3</td>\n",
       "      <td>7</td>\n",
       "      <td>4</td>\n",
       "      <td>4</td>\n",
       "      <td>4</td>\n",
       "      <td>4</td>\n",
       "      <td>1</td>\n",
       "      <td>2</td>\n",
       "      <td>...</td>\n",
       "      <td>1</td>\n",
       "      <td>1</td>\n",
       "      <td>56</td>\n",
       "      <td>6</td>\n",
       "      <td>70</td>\n",
       "      <td>197</td>\n",
       "      <td>16</td>\n",
       "      <td>12</td>\n",
       "      <td>5</td>\n",
       "      <td>16</td>\n",
       "    </tr>\n",
       "    <tr>\n",
       "      <th>max</th>\n",
       "      <td>242</td>\n",
       "      <td>4</td>\n",
       "      <td>3</td>\n",
       "      <td>10</td>\n",
       "      <td>5</td>\n",
       "      <td>5</td>\n",
       "      <td>5</td>\n",
       "      <td>5</td>\n",
       "      <td>2</td>\n",
       "      <td>2</td>\n",
       "      <td>...</td>\n",
       "      <td>3</td>\n",
       "      <td>1</td>\n",
       "      <td>81</td>\n",
       "      <td>9</td>\n",
       "      <td>77</td>\n",
       "      <td>350</td>\n",
       "      <td>20</td>\n",
       "      <td>17</td>\n",
       "      <td>20</td>\n",
       "      <td>20</td>\n",
       "    </tr>\n",
       "  </tbody>\n",
       "</table>\n",
       "<p>8 rows × 38 columns</p>\n",
       "</div>"
      ],
      "text/plain": [
       "       ID  DUR  FREQ  NRS  PIDAY  PIWORK  PPISOC  PICHOR  ABD  JOI  ...    \\\n",
       "count 200  200   200  200    200     200     200     200  200  200  ...     \n",
       "mean  116    4     2    5      3       3       3       3    0    1  ...     \n",
       "std    69    1     1    2      1       1       1       1    1    1  ...     \n",
       "min     5    1     1    0      1       1       0       0    0    0  ...     \n",
       "25%    58    3     2    4      3       3       2       2    0    1  ...     \n",
       "50%   108    4     3    6      3       3       3       4    0    1  ...     \n",
       "75%   172    4     3    7      4       4       4       4    1    2  ...     \n",
       "max   242    4     3   10      5       5       5       5    2    2  ...     \n",
       "\n",
       "       ETOH  SAHELP  AGE  EDU  HT  WT  PI  FUN  DEP  SLEEP  \n",
       "count   200     200  200  200 200 200 200  200  200    200  \n",
       "mean      0       1   45    5  63 164  13    9    3     13  \n",
       "std       1       0   15    2  17  58   4    4    5      4  \n",
       "min       0       0    0    0   0   0   0    0    0      0  \n",
       "25%       0       1   35    3  64 140  11    6    0     10  \n",
       "50%       0       1   46    6  66 165  13    9    0     12  \n",
       "75%       1       1   56    6  70 197  16   12    5     16  \n",
       "max       3       1   81    9  77 350  20   17   20     20  \n",
       "\n",
       "[8 rows x 38 columns]"
      ]
     },
     "execution_count": 140,
     "metadata": {},
     "output_type": "execute_result"
    }
   ],
   "source": [
    "df.describe()"
   ]
  },
  {
   "cell_type": "markdown",
   "metadata": {},
   "source": [
    "#### Histogram of patients by age"
   ]
  },
  {
   "cell_type": "code",
   "execution_count": 141,
   "metadata": {
    "collapsed": false
   },
   "outputs": [
    {
     "data": {
      "text/plain": [
       "<matplotlib.axes._subplots.AxesSubplot at 0x1213100b8>"
      ]
     },
     "execution_count": 141,
     "metadata": {},
     "output_type": "execute_result"
    },
    {
     "data": {
      "image/png": "[encoded data removed]",
      "text/plain": [
       "<matplotlib.figure.Figure at 0x1212ebba8>"
      ]
     },
     "metadata": {},
     "output_type": "display_data"
    }
   ],
   "source": [
    "df['AGE'].hist(bins=10)"
   ]
  },
  {
   "cell_type": "markdown",
   "metadata": {},
   "source": [
    "### Physical Function\n",
    "\n",
    "CHOR - 16. Are you able to do chores such as vacuuming or yard work?  \n",
    "STAIR - 17. Are you able to go up and down stairs at a normal pace?  \n",
    "W15 - 18. Are you able to go for a walk of at least 15 minutes?  \n",
    "ERANDS 19. Are you able to run errands and shop?  \n",
    "\n",
    "#### Cross-tabulation of patients by physical funciton"
   ]
  },
  {
   "cell_type": "code",
   "execution_count": 142,
   "metadata": {
    "collapsed": false
   },
   "outputs": [
    {
     "data": {
      "text/html": [
       "<div>\n",
       "<table border=\"1\" class=\"dataframe\">\n",
       "  <thead>\n",
       "    <tr style=\"text-align: right;\">\n",
       "      <th></th>\n",
       "      <th>NA</th>\n",
       "      <th>w/ difficulty</th>\n",
       "      <th>w/ a little difficulty</th>\n",
       "      <th>w/ some difficulty</th>\n",
       "      <th>w/ much difficulty</th>\n",
       "      <th>Unable to do so</th>\n",
       "    </tr>\n",
       "  </thead>\n",
       "  <tbody>\n",
       "    <tr>\n",
       "      <th>Chores</th>\n",
       "      <td>24</td>\n",
       "      <td>13</td>\n",
       "      <td>58</td>\n",
       "      <td>70</td>\n",
       "      <td>35</td>\n",
       "      <td>0</td>\n",
       "    </tr>\n",
       "    <tr>\n",
       "      <th>Up/down stairs</th>\n",
       "      <td>3</td>\n",
       "      <td>54</td>\n",
       "      <td>58</td>\n",
       "      <td>48</td>\n",
       "      <td>33</td>\n",
       "      <td>4</td>\n",
       "    </tr>\n",
       "    <tr>\n",
       "      <th>Walk 15 min.</th>\n",
       "      <td>1</td>\n",
       "      <td>71</td>\n",
       "      <td>53</td>\n",
       "      <td>50</td>\n",
       "      <td>22</td>\n",
       "      <td>3</td>\n",
       "    </tr>\n",
       "    <tr>\n",
       "      <th>Erands</th>\n",
       "      <td>1</td>\n",
       "      <td>49</td>\n",
       "      <td>68</td>\n",
       "      <td>56</td>\n",
       "      <td>21</td>\n",
       "      <td>5</td>\n",
       "    </tr>\n",
       "  </tbody>\n",
       "</table>\n",
       "</div>"
      ],
      "text/plain": [
       "                NA  w/ difficulty  w/ a little difficulty  w/ some difficulty  \\\n",
       "Chores          24             13                      58                  70   \n",
       "Up/down stairs   3             54                      58                  48   \n",
       "Walk 15 min.     1             71                      53                  50   \n",
       "Erands           1             49                      68                  56   \n",
       "\n",
       "                w/ much difficulty  Unable to do so  \n",
       "Chores                          35                0  \n",
       "Up/down stairs                  33                4  \n",
       "Walk 15 min.                    22                3  \n",
       "Erands                          21                5  "
      ]
     },
     "execution_count": 142,
     "metadata": {},
     "output_type": "execute_result"
    }
   ],
   "source": [
    "result = df[['CHOR','STAIR','W15','ERANDS']].apply(pd.value_counts).fillna(0).T\n",
    "result.index=['Chores','Up/down stairs','Walk 15 min.','Erands']\n",
    "result.columns=['NA','w/ difficulty','w/ a little difficulty','w/ some difficulty','w/ much difficulty','Unable to do so']\n",
    "pd.options.display.float_format = '{:,.0f}'.format\n",
    "\n",
    "# cross tabulated result\n",
    "result"
   ]
  },
  {
   "cell_type": "markdown",
   "metadata": {},
   "source": [
    "#### Bar plot of number of patient by physical function"
   ]
  },
  {
   "cell_type": "code",
   "execution_count": 143,
   "metadata": {
    "collapsed": false
   },
   "outputs": [
    {
     "data": {
      "text/plain": [
       "<matplotlib.axes._subplots.AxesSubplot at 0x121377d68>"
      ]
     },
     "execution_count": 143,
     "metadata": {},
     "output_type": "execute_result"
    },
    {
     "data": {
      "image/png": "[encoded data removed]",
      "text/plain": [
       "<matplotlib.figure.Figure at 0x121390cf8>"
      ]
     },
     "metadata": {},
     "output_type": "display_data"
    }
   ],
   "source": [
    "import matplotlib\n",
    "import matplotlib.pyplot as plt\n",
    "matplotlib.style.use('ggplot')\n",
    "\n",
    "# horizontal bar plot\n",
    "plt=result.plot.barh(title=\"Physical Function\")\n",
    "plt.set_xlabel(\"Number of patients\")\n",
    "plt.legend(loc='center left', bbox_to_anchor=(1, 0.5))\n",
    "plt\n",
    "\n",
    "# horizontal bar plot stacked\n",
    "#result.plot.barh(title=\"Physical Function\", stacked=True).legend(loc='center left', bbox_to_anchor=(1, 0.5))"
   ]
  },
  {
   "cell_type": "markdown",
   "metadata": {},
   "source": [
    "#### Box plot showing distribution of patients by physical function"
   ]
  },
  {
   "cell_type": "code",
   "execution_count": 144,
   "metadata": {
    "collapsed": false
   },
   "outputs": [
    {
     "data": {
      "image/png": "[encoded data removed]",
      "text/plain": [
       "<matplotlib.figure.Figure at 0x12156d710>"
      ]
     },
     "metadata": {},
     "output_type": "display_data"
    }
   ],
   "source": [
    "# Boxplot\n",
    "fig = matplotlib.pyplot.gcf()\n",
    "fig.set_size_inches(12, 6)\n",
    "fig.suptitle('Physical Function', fontsize=12)\n",
    "plt = result.boxplot()"
   ]
  },
  {
   "cell_type": "markdown",
   "metadata": {},
   "source": [
    "#### Are the distriubutions of physical function categories affected by opioid pain killers?"
   ]
  },
  {
   "cell_type": "code",
   "execution_count": 145,
   "metadata": {
    "collapsed": false
   },
   "outputs": [
    {
     "name": "stdout",
     "output_type": "stream",
     "text": [
      "Population (1='Not at all' -> 5 'Very much')\n",
      "   CHOR  STAIR  W15  ERANDS\n",
      "1    13     54   71      49\n",
      "2    58     58   53      68\n",
      "3    70     48   50      56\n",
      "4    35     33   22      21\n",
      "5     0      4    3       5\n",
      "\n",
      "Observed with OPI=1\n",
      "   CHOR  STAIR  W15  ERANDS\n",
      "1    12     23   32      22\n",
      "2    27     31   29      38\n",
      "3    43     34   35      37\n",
      "4    25     24   17      15\n",
      "5     0      4    3       4\n",
      "\n",
      "Remove CHOR - can not use zero values for chi-squared\n",
      "Population (1='Not at all' -> 5 'Very much')\n",
      "   STAIR  W15  ERANDS\n",
      "1     54   71      49\n",
      "2     58   53      68\n",
      "3     48   50      56\n",
      "4     33   22      21\n",
      "5      4    3       5\n",
      "\n",
      "Observed with OPI=1\n",
      "   STAIR  W15  ERANDS\n",
      "1     23   32      22\n",
      "2     31   29      38\n",
      "3     34   35      37\n",
      "4     24   17      15\n",
      "5      4    3       4\n",
      "\n",
      "Chi statistic, p-values for 'STAIR','W15','ERANDS'\n",
      "Power_divergenceResult(statistic=array([ 36.9031406 ,  37.92682338,  36.47355942]), pvalue=array([  1.88599051e-07,   1.16019158e-07,   2.31206253e-07]))\n"
     ]
    }
   ],
   "source": [
    "import numpy as np\n",
    "import pandas as pd\n",
    "import scipy.stats as stats\n",
    "\n",
    "result_population = df[['CHOR','STAIR','W15','ERANDS']].apply(pd.value_counts).fillna(0)\n",
    "df_observed = df.loc[df['OPI']==1]             \n",
    "result_observed = df_observed[['CHOR','STAIR','W15','ERANDS']].apply(pd.value_counts).fillna(0)\n",
    "\n",
    "# remove small values (Category 0)\n",
    "result_population = result_population[1:]\n",
    "result_observed = result_observed[1:]\n",
    "\n",
    "print(\"Population (1='Not at all' -> 5 'Very much')\")\n",
    "print( result_population )\n",
    "print()\n",
    "print(\"Observed with OPI=1\")\n",
    "print( result_observed ) \n",
    "\n",
    "print()\n",
    "print(\"Remove CHOR - can not use zero values for chi-squared\")\n",
    "result_population = result_population[['STAIR','W15','ERANDS']]\n",
    "result_observed = result_observed[['STAIR','W15','ERANDS']]\n",
    "\n",
    "print(\"Population (1='Not at all' -> 5 'Very much')\")\n",
    "print( result_population )\n",
    "print()\n",
    "print(\"Observed with OPI=1\")\n",
    "print( result_observed ) \n",
    "\n",
    "# Get observed counts\n",
    "print()\n",
    "print(\"Chi statistic, p-values for 'STAIR','W15','ERANDS'\")\n",
    "print ( stats.chisquare(f_obs= result_observed,   # Array of observed counts\n",
    "                f_exp= result_population) )  # Array of expected counts"
   ]
  },
  {
   "cell_type": "markdown",
   "metadata": {},
   "source": [
    "*The use of opioid painkillers is statistically significant (all p-values << 0.05) for altering the distribution of all categories of physical function sans 'CHOR'*"
   ]
  },
  {
   "cell_type": "markdown",
   "metadata": {},
   "source": [
    "### Pain Interference\n",
    "\n",
    "PIDAY - 9. How much did pain interfere with your day-to-day activities?  \n",
    "PIWORK - 10. How much did pain interfere with work around the home?  \n",
    "PPISOC - 11. How much did pain interfere with your ability to participate in social activities?  \n",
    "PICHOR - 12. How much did pain interfere with your household chores? \n",
    "\n",
    "#### Cross-tabulation of patients by physical interference"
   ]
  },
  {
   "cell_type": "code",
   "execution_count": 146,
   "metadata": {
    "collapsed": false
   },
   "outputs": [
    {
     "data": {
      "text/html": [
       "<div>\n",
       "<table border=\"1\" class=\"dataframe\">\n",
       "  <thead>\n",
       "    <tr style=\"text-align: right;\">\n",
       "      <th></th>\n",
       "      <th>NA</th>\n",
       "      <th>Not at all</th>\n",
       "      <th>A little bit</th>\n",
       "      <th>Somewhat</th>\n",
       "      <th>Quite a bit</th>\n",
       "      <th>Very much</th>\n",
       "    </tr>\n",
       "  </thead>\n",
       "  <tbody>\n",
       "    <tr>\n",
       "      <th>Day to day activities</th>\n",
       "      <td>0</td>\n",
       "      <td>6</td>\n",
       "      <td>39</td>\n",
       "      <td>71</td>\n",
       "      <td>51</td>\n",
       "      <td>33</td>\n",
       "    </tr>\n",
       "    <tr>\n",
       "      <th>Work around home</th>\n",
       "      <td>0</td>\n",
       "      <td>7</td>\n",
       "      <td>35</td>\n",
       "      <td>61</td>\n",
       "      <td>59</td>\n",
       "      <td>38</td>\n",
       "    </tr>\n",
       "    <tr>\n",
       "      <th>Social activities</th>\n",
       "      <td>1</td>\n",
       "      <td>24</td>\n",
       "      <td>35</td>\n",
       "      <td>56</td>\n",
       "      <td>53</td>\n",
       "      <td>31</td>\n",
       "    </tr>\n",
       "    <tr>\n",
       "      <th>Household chores</th>\n",
       "      <td>1</td>\n",
       "      <td>10</td>\n",
       "      <td>40</td>\n",
       "      <td>46</td>\n",
       "      <td>65</td>\n",
       "      <td>38</td>\n",
       "    </tr>\n",
       "  </tbody>\n",
       "</table>\n",
       "</div>"
      ],
      "text/plain": [
       "                       NA  Not at all  A little bit  Somewhat  Quite a bit  \\\n",
       "Day to day activities   0           6            39        71           51   \n",
       "Work around home        0           7            35        61           59   \n",
       "Social activities       1          24            35        56           53   \n",
       "Household chores        1          10            40        46           65   \n",
       "\n",
       "                       Very much  \n",
       "Day to day activities         33  \n",
       "Work around home              38  \n",
       "Social activities             31  \n",
       "Household chores              38  "
      ]
     },
     "execution_count": 146,
     "metadata": {},
     "output_type": "execute_result"
    }
   ],
   "source": [
    "result = df[['PIDAY','PIWORK','PPISOC','PICHOR']].apply(pd.value_counts).fillna(0).T\n",
    "result.index=['Day to day activities','Work around home','Social activities','Household chores']\n",
    "result.columns=['NA','Not at all','A little bit','Somewhat','Quite a bit','Very much']\n",
    "pd.options.display.float_format = '{:,.0f}'.format\n",
    "result"
   ]
  },
  {
   "cell_type": "markdown",
   "metadata": {},
   "source": [
    "#### Bar plot of number of patient by pain interference"
   ]
  },
  {
   "cell_type": "code",
   "execution_count": 147,
   "metadata": {
    "collapsed": false
   },
   "outputs": [
    {
     "data": {
      "text/plain": [
       "<matplotlib.text.Text at 0x12157a5f8>"
      ]
     },
     "execution_count": 147,
     "metadata": {},
     "output_type": "execute_result"
    },
    {
     "data": {
      "image/png": "[encoded data removed]",
      "text/plain": [
       "<matplotlib.figure.Figure at 0x1218dcdd8>"
      ]
     },
     "metadata": {},
     "output_type": "display_data"
    }
   ],
   "source": [
    "plt = result.plot.barh(title=\"Pain Interference\")\n",
    "plt.legend(loc='center left', bbox_to_anchor=(1, 0.5))\n",
    "plt.set_xlabel(\"Number of patients\")\n",
    "#result.plot.barh(title=\"Pain Interference\", stacked=True).legend(loc='center left', bbox_to_anchor=(1, 0.5))"
   ]
  },
  {
   "cell_type": "markdown",
   "metadata": {},
   "source": [
    "#### Box plot showing distribution of patients by pain interference"
   ]
  },
  {
   "cell_type": "code",
   "execution_count": 148,
   "metadata": {
    "collapsed": false
   },
   "outputs": [
    {
     "data": {
      "image/png": "[encoded data removed]",
      "text/plain": [
       "<matplotlib.figure.Figure at 0x121abfa20>"
      ]
     },
     "metadata": {},
     "output_type": "display_data"
    }
   ],
   "source": [
    "fig = matplotlib.pyplot.gcf()\n",
    "fig.set_size_inches(12, 6)\n",
    "fig.suptitle('Pain Interference', fontsize=12)\n",
    "plt = result.boxplot()"
   ]
  },
  {
   "cell_type": "code",
   "execution_count": 149,
   "metadata": {
    "collapsed": true
   },
   "outputs": [],
   "source": [
    "#### Are the distriubutions of pain interferance categories affected by opioid pain killers?"
   ]
  },
  {
   "cell_type": "code",
   "execution_count": 150,
   "metadata": {
    "collapsed": false
   },
   "outputs": [
    {
     "name": "stdout",
     "output_type": "stream",
     "text": [
      "Population (1='Not at all' -> 5 'Very much')\n",
      "   PIDAY  PIWORK  PPISOC  PICHOR\n",
      "1      6       7      24      10\n",
      "2     39      35      35      40\n",
      "3     71      61      56      46\n",
      "4     51      59      53      65\n",
      "5     33      38      31      38\n",
      "\n",
      "Observed with OPI=1\n",
      "   PIDAY  PIWORK  PPISOC  PICHOR\n",
      "1      2       4       9       4\n",
      "2     18      14      20      21\n",
      "3     38      28      27      22\n",
      "4     30      40      32      39\n",
      "5     28      30      27      29\n",
      "\n",
      "\n",
      "Chi statistic, p-values for 'PIDAY','PIWORK','PPISOC','PICHOR'\n",
      "Power_divergenceResult(statistic=array([ 38.71702172,  39.5410279 ,  39.65831232,  37.67831808]), pvalue=array([  7.96987597e-08,   5.38545165e-08,   5.09305745e-08,\n",
      "         1.30551073e-07]))\n"
     ]
    }
   ],
   "source": [
    "import numpy as np\n",
    "import pandas as pd\n",
    "import scipy.stats as stats\n",
    "\n",
    "result_population = df[['PIDAY','PIWORK','PPISOC','PICHOR']].apply(pd.value_counts).fillna(0)\n",
    "df_observed = df.loc[df['OPI']==1]             \n",
    "result_observed = df_observed[['PIDAY','PIWORK','PPISOC','PICHOR']].apply(pd.value_counts).fillna(0)\n",
    "\n",
    "# remove small values (Category 0)\n",
    "result_population = result_population[1:]\n",
    "result_observed = result_observed[1:]\n",
    "\n",
    "print(\"Population (1='Not at all' -> 5 'Very much')\")\n",
    "print( result_population )\n",
    "print()\n",
    "print(\"Observed with OPI=1\")\n",
    "print( result_observed ) \n",
    "\n",
    "print()\n",
    "# print(\"Remove CHOR - can not use zero values for chi-squared\")\n",
    "# result_population = result_population[['STAIR','W15','ERANDS']]\n",
    "# result_observed = result_observed[['STAIR','W15','ERANDS']]\n",
    "\n",
    "# print(\"Population (1='Not at all' -> 5 'Very much')\")\n",
    "# print( result_population )\n",
    "# print()\n",
    "# print(\"Observed with OPI=1\")\n",
    "# print( result_observed ) \n",
    "\n",
    "# Get observed counts\n",
    "print()\n",
    "print(\"Chi statistic, p-values for 'PIDAY','PIWORK','PPISOC','PICHOR'\")\n",
    "print ( stats.chisquare(f_obs= result_observed,   # Array of observed counts\n",
    "                f_exp= result_population) )  # Array of expected counts"
   ]
  },
  {
   "cell_type": "markdown",
   "metadata": {},
   "source": [
    "*The use of opioid painkillers is statistically significant (all p-values << 0.05) for altering the distribution of all categories of pain interference.*"
   ]
  },
  {
   "cell_type": "markdown",
   "metadata": {},
   "source": [
    "### Pain Intensity\n",
    "\n",
    "NRS - 3. In the past 7 days, how would you rate your low-back pain on average?\n",
    "\n",
    "#### Cross-tabulation of patients by pain intensity"
   ]
  },
  {
   "cell_type": "code",
   "execution_count": 151,
   "metadata": {
    "collapsed": false
   },
   "outputs": [
    {
     "data": {
      "text/html": [
       "<div>\n",
       "<table border=\"1\" class=\"dataframe\">\n",
       "  <thead>\n",
       "    <tr style=\"text-align: right;\">\n",
       "      <th></th>\n",
       "      <th>0</th>\n",
       "      <th>1</th>\n",
       "      <th>2</th>\n",
       "      <th>3</th>\n",
       "      <th>4</th>\n",
       "      <th>5</th>\n",
       "      <th>6</th>\n",
       "      <th>7</th>\n",
       "      <th>8</th>\n",
       "      <th>9</th>\n",
       "      <th>10</th>\n",
       "    </tr>\n",
       "  </thead>\n",
       "  <tbody>\n",
       "    <tr>\n",
       "      <th>NRS</th>\n",
       "      <td>1</td>\n",
       "      <td>3</td>\n",
       "      <td>14</td>\n",
       "      <td>25</td>\n",
       "      <td>27</td>\n",
       "      <td>26</td>\n",
       "      <td>32</td>\n",
       "      <td>39</td>\n",
       "      <td>18</td>\n",
       "      <td>10</td>\n",
       "      <td>5</td>\n",
       "    </tr>\n",
       "  </tbody>\n",
       "</table>\n",
       "</div>"
      ],
      "text/plain": [
       "     0   1   2   3   4   5   6   7   8   9   10\n",
       "NRS   1   3  14  25  27  26  32  39  18  10   5"
      ]
     },
     "execution_count": 151,
     "metadata": {},
     "output_type": "execute_result"
    }
   ],
   "source": [
    "result = df[['NRS']].apply(pd.value_counts).fillna(0).T\n",
    "#result.reindex_axis(sorted(result.columns), axis=1)\n",
    "#result.sort_index(axis=1)\n",
    "pd.options.display.float_format = '{:,.0f}'.format\n",
    "result = result[[0,1,2,3,4,5,6,7,8,9,10]]\n",
    "result"
   ]
  },
  {
   "cell_type": "markdown",
   "metadata": {},
   "source": [
    "#### Bar plot of number of patient by pain intensity"
   ]
  },
  {
   "cell_type": "code",
   "execution_count": 152,
   "metadata": {
    "collapsed": false
   },
   "outputs": [
    {
     "data": {
      "text/plain": [
       "<matplotlib.text.Text at 0x1218e6ef0>"
      ]
     },
     "execution_count": 152,
     "metadata": {},
     "output_type": "execute_result"
    },
    {
     "data": {
      "image/png": "[encoded data removed]",
      "text/plain": [
       "<matplotlib.figure.Figure at 0x121f63940>"
      ]
     },
     "metadata": {},
     "output_type": "display_data"
    }
   ],
   "source": [
    "plt = result.plot.barh(title=\"Pain Intensity\")\n",
    "plt.legend(loc='center left', bbox_to_anchor=(1, 0.5))\n",
    "plt.set_xlabel(\"Number of patients\")\n",
    "#result.plot.barh(title=\"Pain Intensity\", stacked=True).legend(loc='center left', bbox_to_anchor=(1, 0.5))"
   ]
  },
  {
   "cell_type": "markdown",
   "metadata": {},
   "source": [
    "#### Is the distriubution of pain intensity categories affected by opioid pain killers?"
   ]
  },
  {
   "cell_type": "code",
   "execution_count": 153,
   "metadata": {
    "collapsed": false
   },
   "outputs": [
    {
     "name": "stdout",
     "output_type": "stream",
     "text": [
      "Population (1='No pain' -> 10 'Worst imaginable pain')\n",
      "    NRS\n",
      "0     1\n",
      "1     3\n",
      "2    14\n",
      "3    25\n",
      "4    27\n",
      "5    26\n",
      "6    32\n",
      "8    18\n",
      "9    10\n",
      "10    5\n",
      "\n",
      "Observed with OPI=1\n",
      "    NRS\n",
      "1     3\n",
      "2     6\n",
      "3    13\n",
      "4    13\n",
      "5    15\n",
      "6    21\n",
      "7    20\n",
      "8    12\n",
      "9     9\n",
      "10    4\n",
      "\n",
      "Chi statistic, p-values for 'NRS'\n",
      "Power_divergenceResult(statistic=array([ 22.31784748]), pvalue=array([ 0.0079244]))\n"
     ]
    }
   ],
   "source": [
    "import numpy as np\n",
    "import pandas as pd\n",
    "import scipy.stats as stats\n",
    "\n",
    "df_observed = df.loc[df['OPI']==1]             \n",
    "result_population = df[['NRS']].apply(pd.value_counts).fillna(0)\n",
    "result_observed = df_observed[['NRS']].apply(pd.value_counts).fillna(0)\n",
    "\n",
    "# remove \n",
    "result_population = result_population[1:]\n",
    "\n",
    "print(\"Population (1='No pain' -> 10 'Worst imaginable pain')\")\n",
    "print( result_population.sort_index() )\n",
    "print()\n",
    "print(\"Observed with OPI=1\")\n",
    "print( result_observed.sort_index() ) \n",
    "\n",
    "# Get observed counts\n",
    "print()\n",
    "print(\"Chi statistic, p-values for 'NRS'\")\n",
    "print ( stats.chisquare(f_obs= result_observed,   # Array of observed counts\n",
    "                f_exp= result_population) )  # Array of expected counts"
   ]
  },
  {
   "cell_type": "markdown",
   "metadata": {},
   "source": [
    "*The use of opioid painkillers is statistically significant (all p-values << 0.05) for altering the distribution of all categories of pain intensity.*"
   ]
  },
  {
   "cell_type": "markdown",
   "metadata": {},
   "source": [
    "#### Comparitive analysis of duration, frequency, pain intensity, and raduculopathy"
   ]
  },
  {
   "cell_type": "markdown",
   "metadata": {},
   "source": [
    "DUR - 1. How long has low-back pain been an ongoing problem for you?  \n",
    "FREQ-2. How often has low-back pain been an ongoing problem for you over the past 6 months?  \n",
    "NRS - 3. In the past 7 days, how would you rate your low-back pain on average?  \n",
    "RAD - 4. Has back pain spread down your leg(s) during the past 2 weeks? (radiculopathy)"
   ]
  },
  {
   "cell_type": "code",
   "execution_count": 154,
   "metadata": {
    "collapsed": false
   },
   "outputs": [
    {
     "data": {
      "text/plain": [
       "<matplotlib.text.Text at 0x1218ce8d0>"
      ]
     },
     "execution_count": 154,
     "metadata": {},
     "output_type": "execute_result"
    },
    {
     "data": {
      "image/png": "[encoded data removed]",
      "text/plain": [
       "<matplotlib.figure.Figure at 0x12205eb00>"
      ]
     },
     "metadata": {},
     "output_type": "display_data"
    }
   ],
   "source": [
    "import matplotlib\n",
    "import matplotlib.pyplot as plt\n",
    "matplotlib.style.use('ggplot')\n",
    "\n",
    "'''\n",
    "['ID', 'DUR', 'FREQ', 'NRS', 'RAD', 'PIDAY', 'PIWORK', 'PPISOC',\n",
    "       'PICHOR', 'LBS', 'OPI', 'INJ', 'EXE', 'PSY', 'UNEMP', 'DIS', 'ABD',\n",
    "       'JOI', 'HEA', 'FIB', 'CHOR', 'STAIR', 'W15', 'ERANDS', 'WORTHL',\n",
    "       'HELPL', 'DEPRES', 'HOPEL', 'SLEEPQ', 'SREFR', 'SPROB', 'SONSET',\n",
    "       'CAT.SAFE', 'CAT.NEVER', 'LIT', 'AS', 'ETOH', 'SAHELP', 'AGE', 'SEX',\n",
    "       'EMP', 'EDU', 'HT', 'WT', 'RACE', 'PI', 'FUN', 'DEP', 'SLEEP']\n",
    "'''\n",
    "fig, ax = plt.subplots(2,2)\n",
    "# plt.subplots_adjust(10,10)\n",
    "fig.set_size_inches(6, 6)\n",
    "# ax.set_title('How long has low-back pain been an ongoing problem for you?')\n",
    "df[['DUR', 'ID']].groupby(['DUR']).count().plot.bar(ax=ax[0][0], stacked=False, color='r')\n",
    "ax[0][0].set_title('DUR')\n",
    "ax[0][0].legend_.remove()\n",
    "ax[0][0].set_ylabel('N')\n",
    "ax[0][0].set_xlabel('')\n",
    "\n",
    "df[['FREQ', 'ID']].groupby(['FREQ']).count().plot.bar(ax=ax[0][1], stacked=False, color='g')\n",
    "ax[0][1].set_title('FREQ')\n",
    "ax[0][1].legend_.remove()\n",
    "#ax[0][1].set_ylabel('N')\n",
    "ax[0][1].set_xlabel('')\n",
    "\n",
    "df[['NRS', 'ID']].groupby(['NRS']).count().plot.bar(ax=ax[1][0], stacked=False, color='b')\n",
    "ax[1][0].set_title('NRS')\n",
    "ax[1][0].legend_.remove()\n",
    "ax[1][0].set_ylabel('N')\n",
    "ax[1][0].set_xlabel('')\n",
    "\n",
    "df[['RAD', 'ID']].groupby(['RAD']).count().plot.bar(ax=ax[1][1], stacked=False, color='k')\n",
    "ax[1][1].set_title('RAD')\n",
    "ax[1][1].legend_.remove()\n",
    "# ax[1][1].set_ylabel('N')\n",
    "ax[1][1].set_xlabel('')"
   ]
  },
  {
   "cell_type": "markdown",
   "metadata": {},
   "source": [
    "#### Cross tab of duration, frequency, and pain intensity"
   ]
  },
  {
   "cell_type": "code",
   "execution_count": 155,
   "metadata": {
    "collapsed": false
   },
   "outputs": [
    {
     "data": {
      "text/html": [
       "<div>\n",
       "<table border=\"1\" class=\"dataframe\">\n",
       "  <thead>\n",
       "    <tr style=\"text-align: right;\">\n",
       "      <th></th>\n",
       "      <th>DUR</th>\n",
       "      <th>FREQ</th>\n",
       "      <th>NRS</th>\n",
       "    </tr>\n",
       "  </thead>\n",
       "  <tbody>\n",
       "    <tr>\n",
       "      <th>count</th>\n",
       "      <td>200</td>\n",
       "      <td>200</td>\n",
       "      <td>200</td>\n",
       "    </tr>\n",
       "    <tr>\n",
       "      <th>mean</th>\n",
       "      <td>4</td>\n",
       "      <td>2</td>\n",
       "      <td>5</td>\n",
       "    </tr>\n",
       "    <tr>\n",
       "      <th>std</th>\n",
       "      <td>1</td>\n",
       "      <td>1</td>\n",
       "      <td>2</td>\n",
       "    </tr>\n",
       "    <tr>\n",
       "      <th>min</th>\n",
       "      <td>1</td>\n",
       "      <td>1</td>\n",
       "      <td>0</td>\n",
       "    </tr>\n",
       "    <tr>\n",
       "      <th>25%</th>\n",
       "      <td>3</td>\n",
       "      <td>2</td>\n",
       "      <td>4</td>\n",
       "    </tr>\n",
       "    <tr>\n",
       "      <th>50%</th>\n",
       "      <td>4</td>\n",
       "      <td>3</td>\n",
       "      <td>6</td>\n",
       "    </tr>\n",
       "    <tr>\n",
       "      <th>75%</th>\n",
       "      <td>4</td>\n",
       "      <td>3</td>\n",
       "      <td>7</td>\n",
       "    </tr>\n",
       "    <tr>\n",
       "      <th>max</th>\n",
       "      <td>4</td>\n",
       "      <td>3</td>\n",
       "      <td>10</td>\n",
       "    </tr>\n",
       "  </tbody>\n",
       "</table>\n",
       "</div>"
      ],
      "text/plain": [
       "       DUR  FREQ  NRS\n",
       "count  200   200  200\n",
       "mean     4     2    5\n",
       "std      1     1    2\n",
       "min      1     1    0\n",
       "25%      3     2    4\n",
       "50%      4     3    6\n",
       "75%      4     3    7\n",
       "max      4     3   10"
      ]
     },
     "execution_count": 155,
     "metadata": {},
     "output_type": "execute_result"
    }
   ],
   "source": [
    "df[['DUR','FREQ','NRS']].describe()"
   ]
  },
  {
   "cell_type": "markdown",
   "metadata": {},
   "source": [
    "#### Distribution for raduculopathy"
   ]
  },
  {
   "cell_type": "code",
   "execution_count": 156,
   "metadata": {
    "collapsed": false
   },
   "outputs": [
    {
     "data": {
      "text/html": [
       "<div>\n",
       "<table border=\"1\" class=\"dataframe\">\n",
       "  <thead>\n",
       "    <tr style=\"text-align: right;\">\n",
       "      <th></th>\n",
       "      <th>RAD</th>\n",
       "    </tr>\n",
       "  </thead>\n",
       "  <tbody>\n",
       "    <tr>\n",
       "      <th>count</th>\n",
       "      <td>200</td>\n",
       "    </tr>\n",
       "    <tr>\n",
       "      <th>unique</th>\n",
       "      <td>2</td>\n",
       "    </tr>\n",
       "    <tr>\n",
       "      <th>top</th>\n",
       "      <td>0</td>\n",
       "    </tr>\n",
       "    <tr>\n",
       "      <th>freq</th>\n",
       "      <td>116</td>\n",
       "    </tr>\n",
       "  </tbody>\n",
       "</table>\n",
       "</div>"
      ],
      "text/plain": [
       "        RAD\n",
       "count   200\n",
       "unique    2\n",
       "top       0\n",
       "freq    116"
      ]
     },
     "execution_count": 156,
     "metadata": {},
     "output_type": "execute_result"
    }
   ],
   "source": [
    "df[['RAD']].describe()"
   ]
  },
  {
   "cell_type": "markdown",
   "metadata": {
    "collapsed": false
   },
   "source": [
    "### Machine learning methods for feature selection and predictive accuracy"
   ]
  },
  {
   "cell_type": "markdown",
   "metadata": {},
   "source": [
    "#### What is the predictive accuracy of opioid use using a (linear) logistic regression model using all features?\n",
    "\n",
    "Use logistic regression to fit a model using all attributies to predict opioid use.\n",
    "\n",
    "Validate using 10-fold cross validation.\n",
    "\n",
    "List the accuracy and the confusion matrix."
   ]
  },
  {
   "cell_type": "markdown",
   "metadata": {},
   "source": [
    "#### Logistic Regression\n",
    "\n",
    "Binary Logistic Regression is a special type of regression where binary response variable is related to a set of explanatory variables, which can be discrete and/or continuous."
   ]
  },
  {
   "cell_type": "code",
   "execution_count": 157,
   "metadata": {
    "collapsed": false
   },
   "outputs": [
    {
     "name": "stdout",
     "output_type": "stream",
     "text": [
      "LogisticRegression(C=1.0, class_weight=None, dual=False, fit_intercept=True,\n",
      "          intercept_scaling=1, max_iter=100, multi_class='ovr', n_jobs=1,\n",
      "          penalty='l2', random_state=None, solver='liblinear', tol=0.0001,\n",
      "          verbose=0, warm_start=False)\n",
      "Cross validation scores using all features\n",
      "[ 0.66666667  0.47619048  0.76190476  0.76190476  0.7         0.65\n",
      "  0.68421053  0.73684211  0.68421053  0.78947368]\n",
      "Mean accuracy using all features: 0.69 (+/- 0.17)\n"
     ]
    }
   ],
   "source": [
    "from sklearn.model_selection import cross_val_score\n",
    "from sklearn.model_selection import train_test_split\n",
    "from sklearn import svm\n",
    "# X_train, X_test, y_train, y_test = train_test_split(iris.data, iris.target, test_size=0.4, random_state=0\n",
    "\n",
    "features = ['DUR', 'FREQ', 'NRS', 'RAD', 'PIDAY', 'PIWORK', 'PPISOC',\n",
    "       'PICHOR', 'LBS', 'INJ', 'EXE', 'PSY', 'UNEMP', 'DIS', 'ABD',\n",
    "       'JOI', 'HEA', 'FIB', 'CHOR', 'STAIR', 'W15', 'ERANDS', 'WORTHL',\n",
    "       'HELPL', 'DEPRES', 'HOPEL', 'SLEEPQ', 'SREFR', 'SPROB', 'SONSET',\n",
    "       'CAT.SAFE', 'CAT.NEVER', 'LIT', 'AS', 'ETOH', 'SAHELP', 'AGE', 'SEX',\n",
    "       'EMP', 'EDU', 'HT', 'WT', 'RACE', 'PI', 'FUN', 'DEP', 'SLEEP']\n",
    "\n",
    "labels = df[target][\"OPI\"]\n",
    "\n",
    "# fit a logistic regression model to the data\n",
    "model = LogisticRegression()\n",
    "model.fit(df[features], labels)\n",
    "print(model)\n",
    "\n",
    "# make predictions\n",
    "expected = df[target]\n",
    "predicted = model.predict(df[features])\n",
    "\n",
    "# # summarize the fit of the model\n",
    "# print(metrics.classification_report(expected, predicted))\n",
    "# print(metrics.confusion_matrix(expected, predicted))\n",
    "\n",
    "scores = cross_val_score(model, df[features], df[target][\"OPI\"], cv=10)\n",
    "print( \"Cross validation scores using all features\")\n",
    "print(scores )                                             \n",
    "\n",
    "# The mean score and the 95% confidence interval of the score estimate are hence given by:\n",
    "print(\"Mean accuracy using all features: %0.2f (+/- %0.2f)\" % (scores.mean(), scores.std() * 2))\n",
    "\n"
   ]
  },
  {
   "cell_type": "markdown",
   "metadata": {},
   "source": [
    "*Accuracy is ~0.69 for a Logistic Regression Model using all features to predict opioid use.*"
   ]
  },
  {
   "cell_type": "markdown",
   "metadata": {},
   "source": [
    "#### Support Vector Machine\n",
    "\n",
    "Discriminative classifier formally defined by a separating hyperplane. In other words, given labeled training data (supervised learning), the algorithm outputs an optimal hyperplane which categorizes new examples."
   ]
  },
  {
   "cell_type": "code",
   "execution_count": 158,
   "metadata": {
    "collapsed": false
   },
   "outputs": [
    {
     "name": "stdout",
     "output_type": "stream",
     "text": [
      "SVC(C=1, cache_size=200, class_weight=None, coef0=0.0,\n",
      "  decision_function_shape=None, degree=3, gamma='auto', kernel='linear',\n",
      "  max_iter=-1, probability=False, random_state=None, shrinking=True,\n",
      "  tol=0.001, verbose=False)\n",
      "Cross validation scores using all features\n",
      "[ 0.61904762  0.38095238  0.71428571  0.71428571  0.7         0.65\n",
      "  0.63157895  0.63157895  0.57894737  0.68421053]\n",
      "Mean accuracy using all features: 0.63 (+/- 0.19)\n"
     ]
    }
   ],
   "source": [
    "from sklearn import datasets\n",
    "from sklearn import metrics\n",
    "from sklearn import svm\n",
    "\n",
    "labels = df[target][\"OPI\"]\n",
    "\n",
    "# fit a logistic regression model to the data\n",
    "model = svm.SVC(kernel='linear', C=1)\n",
    "model.fit(df[features], labels)\n",
    "print(model)\n",
    "\n",
    "# make predictions\n",
    "expected = df[target]\n",
    "predicted = model.predict(df[features])\n",
    "\n",
    "# # summarize the fit of the model\n",
    "# print(metrics.classification_report(expected, predicted))\n",
    "# print(metrics.confusion_matrix(expected, predicted))\n",
    "\n",
    "scores = cross_val_score(model, df[features], df[target][\"OPI\"], cv=10)\n",
    "print( \"Cross validation scores using all features\")\n",
    "print(scores )                                             \n",
    "\n",
    "# The mean score and the 95% confidence interval of the score estimate are hence given by:\n",
    "print(\"Mean accuracy using all features: %0.2f (+/- %0.2f)\" % (scores.mean(), scores.std() * 2))"
   ]
  },
  {
   "cell_type": "markdown",
   "metadata": {},
   "source": [
    "*Accuracy is ~0.63 for a Support Vector Machine model using all features to predict opioid use.*"
   ]
  },
  {
   "cell_type": "markdown",
   "metadata": {},
   "source": [
    "#### CART Decision Tree (unpruned)\n",
    "\n",
    "Non-parametric supervised learning method used for classification and regression. The goal is to create a model that predicts the value of a target variable by learning simple decision rules inferred from the data features."
   ]
  },
  {
   "cell_type": "code",
   "execution_count": 159,
   "metadata": {
    "collapsed": false
   },
   "outputs": [
    {
     "name": "stdout",
     "output_type": "stream",
     "text": [
      "DecisionTreeClassifier(class_weight=None, criterion='gini', max_depth=None,\n",
      "            max_features=None, max_leaf_nodes=None,\n",
      "            min_impurity_split=1e-07, min_samples_leaf=1,\n",
      "            min_samples_split=2, min_weight_fraction_leaf=0.0,\n",
      "            presort=False, random_state=None, splitter='best')\n",
      "Cross validation scores using all features\n",
      "[ 0.71428571  0.47619048  0.61904762  0.57142857  0.55        0.5\n",
      "  0.57894737  0.52631579  0.47368421  0.68421053]\n",
      "Mean accuracy using all features: 0.57 (+/- 0.16)\n"
     ]
    }
   ],
   "source": [
    "from sklearn import datasets\n",
    "from sklearn import metrics\n",
    "from sklearn.tree import DecisionTreeClassifier\n",
    "\n",
    "labels = df[target][\"OPI\"]\n",
    "\n",
    "# fit a logistic regression model to the data\n",
    "model = DecisionTreeClassifier()\n",
    "model.fit(df[features], labels)\n",
    "print(model)\n",
    "\n",
    "# make predictions\n",
    "expected = df[target]\n",
    "predicted = model.predict(df[features])\n",
    "\n",
    "# # summarize the fit of the model\n",
    "# print(metrics.classification_report(expected, predicted))\n",
    "# print(metrics.confusion_matrix(expected, predicted))\n",
    "\n",
    "scores = cross_val_score(model, df[features], df[target][\"OPI\"], cv=10)\n",
    "print( \"Cross validation scores using all features\")\n",
    "print(scores )                                             \n",
    "\n",
    "# The mean score and the 95% confidence interval of the score estimate are hence given by:\n",
    "print(\"Mean accuracy using all features: %0.2f (+/- %0.2f)\" % (scores.mean(), scores.std() * 2))"
   ]
  },
  {
   "cell_type": "markdown",
   "metadata": {},
   "source": [
    "*Accuracy is ~0.58 for an unpruned CART decision tree model using all features to predict opioid use.*"
   ]
  },
  {
   "cell_type": "markdown",
   "metadata": {},
   "source": [
    "#### Can we improve predicitve accuracy by identifying the most important features?"
   ]
  },
  {
   "cell_type": "code",
   "execution_count": 160,
   "metadata": {
    "collapsed": false
   },
   "outputs": [],
   "source": [
    "def most_informative_features(feature_names, clf, n=20):\n",
    "    coefs_with_fns = sorted(zip(clf.coef_[0], feature_names))\n",
    "    top = zip(coefs_with_fns[:n], coefs_with_fns[:-(n + 1):-1])\n",
    "    for (coef_1, fn_1), (coef_2, fn_2) in top:\n",
    "        print( \"\\t%.4f\\t%-15s\\t\\t%.4f\\t%-15s\" % (coef_1, fn_1, coef_2, fn_2) )"
   ]
  },
  {
   "cell_type": "markdown",
   "metadata": {},
   "source": [
    "#### Logistic Regression feature weights"
   ]
  },
  {
   "cell_type": "code",
   "execution_count": 161,
   "metadata": {
    "collapsed": false
   },
   "outputs": [
    {
     "name": "stdout",
     "output_type": "stream",
     "text": [
      "LogisticRegression(C=1.0, class_weight=None, dual=False, fit_intercept=True,\n",
      "          intercept_scaling=1, max_iter=100, multi_class='ovr', n_jobs=1,\n",
      "          penalty='l2', random_state=None, solver='liblinear', tol=0.0001,\n",
      "          verbose=0, warm_start=False)\n",
      "\t-0.9456\tERANDS         \t\t1.4559\tDIS            \n",
      "\t-0.7570\tLIT            \t\t1.3498\tINJ            \n",
      "\t-0.4778\tFREQ           \t\t1.1666\tEXE            \n",
      "\t-0.4710\tCHOR           \t\t0.6708\tSEX            \n",
      "\t-0.4683\tCAT.SAFE       \t\t0.6122\tSPROB          \n",
      "\t-0.4607\tPICHOR         \t\t0.6069\tPIWORK         \n",
      "\t-0.2978\tSREFR          \t\t0.5399\tPSY            \n",
      "\t-0.2498\tABD            \t\t0.3981\tSTAIR          \n",
      "\t-0.2370\tEDU            \t\t0.3496\tLBS            \n",
      "\t-0.1920\tDUR            \t\t0.2994\tRAD            \n"
     ]
    }
   ],
   "source": [
    "from sklearn import datasets\n",
    "from sklearn import metrics\n",
    "from sklearn import svm\n",
    "\n",
    "# fit a LR model to the data\n",
    "model = LogisticRegression()\n",
    "model.fit(df[features], df[target])\n",
    "print(model)\n",
    "\n",
    "# display the relative importance of each attribute\n",
    "most_informative_features(features, model, n=10)"
   ]
  },
  {
   "cell_type": "markdown",
   "metadata": {},
   "source": [
    "#### Support Vector Machine feature weights"
   ]
  },
  {
   "cell_type": "code",
   "execution_count": 162,
   "metadata": {
    "collapsed": false
   },
   "outputs": [
    {
     "name": "stdout",
     "output_type": "stream",
     "text": [
      "SVC(C=1, cache_size=200, class_weight=None, coef0=0.0,\n",
      "  decision_function_shape=None, degree=3, gamma='auto', kernel='linear',\n",
      "  max_iter=-1, probability=False, random_state=None, shrinking=True,\n",
      "  tol=0.001, verbose=False)\n",
      "\t-1.0000\tLIT            \t\t1.5662\tDIS            \n",
      "\t-0.7805\tERANDS         \t\t1.2503\tINJ            \n",
      "\t-0.7247\tCAT.SAFE       \t\t1.0111\tEXE            \n",
      "\t-0.4611\tCHOR           \t\t0.6928\tSEX            \n",
      "\t-0.3670\tFREQ           \t\t0.4636\tPIWORK         \n",
      "\t-0.3655\tPICHOR         \t\t0.3760\tSPROB          \n",
      "\t-0.2631\tDUR            \t\t0.3197\tJOI            \n",
      "\t-0.2583\tSONSET         \t\t0.3057\tRAD            \n",
      "\t-0.1812\tEDU            \t\t0.2777\tFUN            \n",
      "\t-0.1796\tNRS            \t\t0.2683\tLBS            \n"
     ]
    }
   ],
   "source": [
    "from sklearn import datasets\n",
    "from sklearn import metrics\n",
    "from sklearn import svm\n",
    "\n",
    "# fit a SVM model to the data\n",
    "model = svm.SVC(kernel='linear', C=1)\n",
    "model.fit(df[features], df[target])\n",
    "print(model)\n",
    "\n",
    "# display the relative importance of each attribute\n",
    "most_informative_features(features, model, n=10)"
   ]
  },
  {
   "cell_type": "code",
   "execution_count": 163,
   "metadata": {
    "collapsed": true
   },
   "outputs": [],
   "source": [
    "#### Decision Tree feature importances (Gini Index)"
   ]
  },
  {
   "cell_type": "code",
   "execution_count": 164,
   "metadata": {
    "collapsed": false
   },
   "outputs": [
    {
     "name": "stdout",
     "output_type": "stream",
     "text": [
      "DecisionTreeClassifier(class_weight=None, criterion='gini', max_depth=None,\n",
      "            max_features=None, max_leaf_nodes=None,\n",
      "            min_impurity_split=1e-07, min_samples_leaf=1,\n",
      "            min_samples_split=2, min_weight_fraction_leaf=0.0,\n",
      "            presort=False, random_state=None, splitter='best')\n",
      "             precision    recall  f1-score   support\n",
      "\n",
      "        0.0       1.00      1.00      1.00        84\n",
      "        1.0       1.00      1.00      1.00       116\n",
      "\n",
      "avg / total       1.00      1.00      1.00       200\n",
      "\n",
      "[[ 84   0]\n",
      " [  0 116]]\n",
      "[ 0.01026273  0.          0.01910446  0.          0.          0.\n",
      "  0.02138068  0.04926108  0.          0.13809487  0.06064969  0.          0.\n",
      "  0.          0.03078818  0.0536809   0.          0.          0.00937031\n",
      "  0.03078818  0.          0.          0.01368363  0.038128    0.01642036\n",
      "  0.01026273  0.          0.          0.          0.03239452  0.          0.\n",
      "  0.00984384  0.01710454  0.01710454  0.          0.1689602   0.\n",
      "  0.03372038  0.0351015   0.          0.0482678   0.01528214  0.01781316\n",
      "  0.04216261  0.0410509   0.01931807]\n"
     ]
    }
   ],
   "source": [
    "from sklearn import datasets\n",
    "from sklearn import metrics\n",
    "from sklearn.tree import DecisionTreeClassifier\n",
    "\n",
    "# fit a CART model to the data\n",
    "model = DecisionTreeClassifier()\n",
    "model.fit(df[features], df[target])\n",
    "print(model)\n",
    "\n",
    "# make predictions\n",
    "# make predictions\n",
    "expected = df[target]\n",
    "predicted = model.predict(df[features])\n",
    "\n",
    "# summarize the fit of the model\n",
    "print(metrics.classification_report(expected, predicted))\n",
    "print(metrics.confusion_matrix(expected, predicted))\n",
    "\n",
    "# display the relative importance of each attribute\n",
    "print(model.feature_importances_)"
   ]
  },
  {
   "cell_type": "markdown",
   "metadata": {},
   "source": [
    "#### Plot the learned decision tree"
   ]
  },
  {
   "cell_type": "code",
   "execution_count": 165,
   "metadata": {
    "collapsed": false
   },
   "outputs": [
    {
     "data": {
      "image/png": "[encoded data removed]",
      "text/plain": [
       "<IPython.core.display.Image object>"
      ]
     },
     "execution_count": 165,
     "metadata": {},
     "output_type": "execute_result"
    }
   ],
   "source": [
    "from sklearn.tree import export_graphviz\n",
    "import graphviz\n",
    "import os\n",
    "\n",
    "export_graphviz(model, feature_names=features, out_file=\"mytree.dot\")\n",
    "with open(\"mytree.dot\") as f:\n",
    "    dot_graph = f.read()\n",
    "graphviz.Source(dot_graph)\n",
    "\n",
    "# Note: you may need to execute the following from the command line\n",
    "os.system(\"dot -Tpng mytree.dot -o mytree.png\")\n",
    "\n",
    "from IPython.display import Image\n",
    "Image(filename='mytree.png')\n",
    "\n",
    "\n",
    "# from sklearn import tree\n",
    "# from IPython.display import Image  \n",
    "# import pydotplus \n",
    "\n",
    "# dot_data = tree.export_graphviz(model, out_file=None, \n",
    "#                          feature_names=features,  \n",
    "#                          #class_names=iris.target_names,  \n",
    "#                          filled=True, rounded=True,  \n",
    "#                          special_characters=True)  \n",
    "# # graph = pydotplus.graph_from_dot_data(dot_data)  \n",
    "# # Image(graph.create_png())  "
   ]
  },
  {
   "cell_type": "markdown",
   "metadata": {},
   "source": [
    "#### Recursive feature elimination to select attributes\n",
    "\n",
    "Given an external estimator that assigns weights to features (e.g., the coefficients of a linear model), recursive feature elimination (RFE) selects features by recursively considering smaller and smaller sets of features. First, the estimator is trained on the initial set of features and weights are assigned to each one of them. Then, features whose absolute weights are the smallest are pruned from the current set features. That procedure is recursively repeated on the pruned set until the desired number of features to select is eventually reached.\n",
    "\n",
    "Select the 10 most selective attributes"
   ]
  },
  {
   "cell_type": "code",
   "execution_count": 166,
   "metadata": {
    "collapsed": false
   },
   "outputs": [
    {
     "name": "stdout",
     "output_type": "stream",
     "text": [
      "[False  True False  True False False False False False  True  True False\n",
      " False  True False  True False False  True False False  True False False\n",
      " False False False False False False False False  True False False False\n",
      " False  True False False False False False False False False False]\n",
      "[13  1 15  1 30  4 17  5  2  1  1 11 14  1 24  1 33 32  1 16 27  1 10 18 22\n",
      " 12 20 19  8  7  6 26  1 35 28 38 34  1 29  9 37 36 23 31  3 21 25]\n",
      "Top ten features:\n",
      "['FREQ' 'RAD' 'INJ' 'EXE' 'DIS' 'JOI' 'CHOR' 'ERANDS' 'LIT' 'SEX']\n",
      "Features sorted by their rank:\n",
      "[(1, 'CHOR'), (1, 'DIS'), (1, 'ERANDS'), (1, 'EXE'), (1, 'FREQ'), (1, 'INJ'), (1, 'JOI'), (1, 'LIT'), (1, 'RAD'), (1, 'SEX'), (2, 'LBS'), (3, 'FUN'), (4, 'PIWORK'), (5, 'PICHOR'), (6, 'CAT.SAFE'), (7, 'SONSET'), (8, 'SPROB'), (9, 'EDU'), (10, 'WORTHL'), (11, 'PSY'), (12, 'HOPEL'), (13, 'DUR'), (14, 'UNEMP'), (15, 'NRS'), (16, 'STAIR'), (17, 'PPISOC'), (18, 'HELPL'), (19, 'SREFR'), (20, 'SLEEPQ'), (21, 'DEP'), (22, 'DEPRES'), (23, 'RACE'), (24, 'ABD'), (25, 'SLEEP'), (26, 'CAT.NEVER'), (27, 'W15'), (28, 'ETOH'), (29, 'EMP'), (30, 'PIDAY'), (31, 'PI'), (32, 'FIB'), (33, 'HEA'), (34, 'AGE'), (35, 'AS'), (36, 'WT'), (37, 'HT'), (38, 'SAHELP')]\n"
     ]
    }
   ],
   "source": [
    "# Recursive Feature Elimination\n",
    "from sklearn import datasets\n",
    "from sklearn.feature_selection import RFE\n",
    "from sklearn.linear_model import LogisticRegression\n",
    "\n",
    "# create a base classifier used to evaluate a subset of attributes\n",
    "model = LogisticRegression()\n",
    "model = DecisionTreeClassifier()\n",
    "model = svm.SVC(kernel='linear', C=1)\n",
    "# print( features )\n",
    "# print( target )\n",
    "\n",
    "# create the RFE model and select 10 attributes\n",
    "rfe = RFE(model, 10)\n",
    "rfe = rfe.fit(df[features], df[target])\n",
    "\n",
    "# summarize the selection of the attributes\n",
    "print(rfe.support_)\n",
    "print(rfe.ranking_)\n",
    "\n",
    "df[features].columns.values[rfe.support_]\n",
    "features_top10 = df[features].columns.values[rfe.support_]\n",
    "print(\"Top ten features:\")\n",
    "print(features_top10)\n",
    "\n",
    "print (\"Features sorted by their rank:\")\n",
    "print ( sorted(zip(map(lambda x: round(x, 4), rfe.ranking_), features)) )\n"
   ]
  },
  {
   "cell_type": "markdown",
   "metadata": {},
   "source": [
    "### Predictive accuracy"
   ]
  },
  {
   "cell_type": "markdown",
   "metadata": {},
   "source": [
    "#### Accuarcy using top 10 features from recursive feature elimiation"
   ]
  },
  {
   "cell_type": "code",
   "execution_count": 167,
   "metadata": {
    "collapsed": false
   },
   "outputs": [
    {
     "name": "stdout",
     "output_type": "stream",
     "text": [
      "['FREQ' 'RAD' 'INJ' 'EXE' 'DIS' 'JOI' 'CHOR' 'ERANDS' 'LIT' 'SEX']\n"
     ]
    }
   ],
   "source": [
    "print( features_top10 )"
   ]
  },
  {
   "cell_type": "code",
   "execution_count": 168,
   "metadata": {
    "collapsed": false
   },
   "outputs": [
    {
     "name": "stdout",
     "output_type": "stream",
     "text": [
      "Top ten features:\n",
      "['FREQ' 'RAD' 'INJ' 'EXE' 'PSY' 'DIS' 'CHOR' 'ERANDS' 'LIT' 'FUN']\n",
      "Features sorted by their rank:\n",
      "[(1, 'CHOR'), (1, 'DIS'), (1, 'ERANDS'), (1, 'EXE'), (1, 'FREQ'), (1, 'FUN'), (1, 'INJ'), (1, 'LIT'), (1, 'PSY'), (1, 'RAD'), (2, 'SEX'), (3, 'PIDAY'), (4, 'PICHOR'), (5, 'CAT.SAFE'), (6, 'SPROB'), (7, 'SONSET'), (8, 'STAIR'), (9, 'DUR'), (10, 'PIWORK'), (11, 'W15'), (12, 'SREFR'), (13, 'LBS'), (14, 'JOI'), (15, 'ABD'), (16, 'SLEEPQ'), (17, 'WORTHL'), (18, 'ETOH'), (19, 'SAHELP'), (20, 'EDU'), (21, 'NRS'), (22, 'HOPEL'), (23, 'PPISOC'), (24, 'PI'), (25, 'HELPL'), (26, 'DEP'), (27, 'DEPRES'), (28, 'SLEEP'), (29, 'UNEMP'), (30, 'RACE'), (31, 'HEA'), (32, 'CAT.NEVER'), (33, 'FIB'), (34, 'AS'), (35, 'HT'), (36, 'WT'), (37, 'EMP'), (38, 'AGE')]\n",
      "Model:\n",
      "LogisticRegression(C=1.0, class_weight=None, dual=False, fit_intercept=True,\n",
      "          intercept_scaling=1, max_iter=100, multi_class='ovr', n_jobs=1,\n",
      "          penalty='l2', random_state=None, solver='liblinear', tol=0.0001,\n",
      "          verbose=0, warm_start=False)\n",
      "Cross validation scores using top 10 features\n",
      "[ 0.61904762  0.57142857  0.71428571  0.66666667  0.8         0.65\n",
      "  0.94736842  0.57894737  0.78947368  0.78947368]\n",
      "Mean accuracy using top 10 features: 0.71 (+/- 0.23)\n"
     ]
    }
   ],
   "source": [
    "from sklearn.model_selection import cross_val_score\n",
    "from sklearn.model_selection import train_test_split\n",
    "# X_train, X_test, y_train, y_test = train_test_split(iris.data, iris.target, test_size=0.4, random_state=0)\n",
    "\n",
    "model = LogisticRegression()\n",
    "\n",
    "labels = df[target][\"OPI\"]\n",
    "\n",
    "rfe = RFE(model, 10)\n",
    "rfe = rfe.fit(df[features], df[target])\n",
    "\n",
    "# summarize the selection of the attributes\n",
    "# print(rfe.support_)\n",
    "# print(rfe.ranking_)\n",
    "\n",
    "df[features].columns.values[rfe.support_]\n",
    "features_top10 = df[features].columns.values[rfe.support_]\n",
    "print(\"Top ten features:\")\n",
    "print(features_top10)\n",
    "\n",
    "print (\"Features sorted by their rank:\")\n",
    "print ( sorted(zip(map(lambda x: round(x, 4), rfe.ranking_), features)) )\n",
    "\n",
    "ff = df[features_top10]\n",
    "model.fit(ff, labels)\n",
    "print(\"Model:\")\n",
    "print(model)\n",
    "\n",
    "scores = cross_val_score(model, ff, df[target][\"OPI\"], cv=10)\n",
    "print( \"Cross validation scores using top 10 features\")\n",
    "print(scores )                                             \n",
    "\n",
    "# The mean score and the 95% confidence interval of the score estimate are hence given by:\n",
    "print(\"Mean accuracy using top 10 features: %0.2f (+/- %0.2f)\" % (scores.mean(), scores.std() * 2))\n"
   ]
  },
  {
   "cell_type": "markdown",
   "metadata": {},
   "source": [
    "*Accuracy is 0.71 for Logistic Regression classifier using top 10 features.*"
   ]
  },
  {
   "cell_type": "markdown",
   "metadata": {},
   "source": [
    "#### Support Vector Machine"
   ]
  },
  {
   "cell_type": "code",
   "execution_count": 169,
   "metadata": {
    "collapsed": false
   },
   "outputs": [
    {
     "name": "stdout",
     "output_type": "stream",
     "text": [
      "Top ten features:\n",
      "['FREQ' 'RAD' 'INJ' 'EXE' 'DIS' 'JOI' 'CHOR' 'ERANDS' 'LIT' 'SEX']\n",
      "Features sorted by their rank:\n",
      "[(1, 'CHOR'), (1, 'DIS'), (1, 'ERANDS'), (1, 'EXE'), (1, 'FREQ'), (1, 'INJ'), (1, 'JOI'), (1, 'LIT'), (1, 'RAD'), (1, 'SEX'), (2, 'LBS'), (3, 'FUN'), (4, 'PIWORK'), (5, 'PICHOR'), (6, 'CAT.SAFE'), (7, 'SONSET'), (8, 'SPROB'), (9, 'EDU'), (10, 'WORTHL'), (11, 'PSY'), (12, 'HOPEL'), (13, 'DUR'), (14, 'UNEMP'), (15, 'NRS'), (16, 'STAIR'), (17, 'PPISOC'), (18, 'HELPL'), (19, 'SREFR'), (20, 'SLEEPQ'), (21, 'DEP'), (22, 'DEPRES'), (23, 'RACE'), (24, 'ABD'), (25, 'SLEEP'), (26, 'CAT.NEVER'), (27, 'W15'), (28, 'ETOH'), (29, 'EMP'), (30, 'PIDAY'), (31, 'PI'), (32, 'FIB'), (33, 'HEA'), (34, 'AGE'), (35, 'AS'), (36, 'WT'), (37, 'HT'), (38, 'SAHELP')]\n",
      "Model:\n",
      "SVC(C=1, cache_size=200, class_weight=None, coef0=0.0,\n",
      "  decision_function_shape=None, degree=3, gamma='auto', kernel='linear',\n",
      "  max_iter=-1, probability=False, random_state=None, shrinking=True,\n",
      "  tol=0.001, verbose=False)\n",
      "Cross validation scores using top 10 features\n",
      "[ 0.61904762  0.47619048  0.85714286  0.71428571  0.7         0.75\n",
      "  0.78947368  0.52631579  0.63157895  0.78947368]\n",
      "Mean accuracy using top 10 features: 0.69 (+/- 0.23)\n"
     ]
    }
   ],
   "source": [
    "from sklearn.model_selection import cross_val_score\n",
    "from sklearn.model_selection import train_test_split\n",
    "from sklearn import svm\n",
    "# X_train, X_test, y_train, y_test = train_test_split(iris.data, iris.target, test_size=0.4, random_state=0)\n",
    "\n",
    "model = svm.SVC(kernel='linear', C=1)\n",
    "\n",
    "labels = df[target][\"OPI\"]\n",
    "rfe = RFE(model, 10)\n",
    "rfe = rfe.fit(df[features], df[target])\n",
    "\n",
    "# summarize the selection of the attributes\n",
    "# print(rfe.support_)\n",
    "# print(rfe.ranking_)\n",
    "\n",
    "df[features].columns.values[rfe.support_]\n",
    "features_top10 = df[features].columns.values[rfe.support_]\n",
    "print(\"Top ten features:\")\n",
    "print(features_top10)\n",
    "\n",
    "print (\"Features sorted by their rank:\")\n",
    "print ( sorted(zip(map(lambda x: round(x, 4), rfe.ranking_), features)) )\n",
    "\n",
    "ff = df[features_top10]\n",
    "model.fit(ff, labels)\n",
    "print(\"Model:\")\n",
    "print(model)\n",
    "\n",
    "scores = cross_val_score(model, ff, df[target][\"OPI\"], cv=10)\n",
    "print( \"Cross validation scores using top 10 features\")\n",
    "print(scores )                                             \n",
    "\n",
    "# The mean score and the 95% confidence interval of the score estimate are hence given by:\n",
    "print(\"Mean accuracy using top 10 features: %0.2f (+/- %0.2f)\" % (scores.mean(), scores.std() * 2))\n",
    "\n",
    "\n"
   ]
  },
  {
   "cell_type": "markdown",
   "metadata": {},
   "source": [
    "*Accuracy is 0.69 for SVM classifier using top 10 features.*"
   ]
  },
  {
   "cell_type": "markdown",
   "metadata": {},
   "source": [
    "#### CART Decision Tree"
   ]
  },
  {
   "cell_type": "code",
   "execution_count": 170,
   "metadata": {
    "collapsed": false
   },
   "outputs": [
    {
     "name": "stdout",
     "output_type": "stream",
     "text": [
      "Top ten features:\n",
      "['PPISOC' 'PICHOR' 'INJ' 'EXE' 'SONSET' 'AGE' 'EDU' 'WT' 'FUN' 'DEP']\n",
      "Features sorted by their rank:\n",
      "[(1, 'AGE'), (1, 'DEP'), (1, 'EDU'), (1, 'EXE'), (1, 'FUN'), (1, 'INJ'), (1, 'PICHOR'), (1, 'PPISOC'), (1, 'SONSET'), (1, 'WT'), (2, 'JOI'), (3, 'HELPL'), (4, 'UNEMP'), (5, 'STAIR'), (6, 'NRS'), (7, 'ABD'), (8, 'AS'), (9, 'CAT.NEVER'), (10, 'RACE'), (11, 'DIS'), (12, 'LIT'), (13, 'W15'), (14, 'EMP'), (15, 'HT'), (16, 'LBS'), (17, 'PI'), (18, 'PIDAY'), (19, 'CAT.SAFE'), (20, 'SPROB'), (21, 'CHOR'), (22, 'SLEEPQ'), (23, 'PIWORK'), (24, 'RAD'), (25, 'SEX'), (26, 'DEPRES'), (27, 'PSY'), (28, 'HEA'), (29, 'ERANDS'), (30, 'ETOH'), (31, 'HOPEL'), (32, 'FIB'), (33, 'WORTHL'), (34, 'SAHELP'), (35, 'SREFR'), (36, 'SLEEP'), (37, 'FREQ'), (38, 'DUR')]\n",
      "Model:\n",
      "DecisionTreeClassifier(class_weight=None, criterion='gini', max_depth=None,\n",
      "            max_features=None, max_leaf_nodes=None,\n",
      "            min_impurity_split=1e-07, min_samples_leaf=1,\n",
      "            min_samples_split=2, min_weight_fraction_leaf=0.0,\n",
      "            presort=False, random_state=None, splitter='best')\n",
      "Cross validation scores using top 10 features\n",
      "[ 0.71428571  0.42857143  0.47619048  0.47619048  0.7         0.85\n",
      "  0.78947368  0.52631579  0.73684211  0.78947368]\n",
      "Mean accuracy using top 10 features: 0.65 (+/- 0.30)\n"
     ]
    }
   ],
   "source": [
    "from sklearn.model_selection import cross_val_score\n",
    "from sklearn.model_selection import train_test_split\n",
    "from sklearn.ensemble import RandomForestClassifier\n",
    "# X_train, X_test, y_train, y_test = train_test_split(iris.data, iris.target, test_size=0.4, random_state=0)\n",
    "\n",
    "model = DecisionTreeClassifier()\n",
    "#clf = RandomForestClassifier(n_estimators=25)\n",
    "\n",
    "labels = df[target][\"OPI\"]\n",
    "\n",
    "rfe = RFE(model, 10)\n",
    "rfe = rfe.fit(df[features], df[target])\n",
    "\n",
    "# summarize the selection of the attributes\n",
    "# print(rfe.support_)\n",
    "# print(rfe.ranking_)\n",
    "\n",
    "df[features].columns.values[rfe.support_]\n",
    "features_top10 = df[features].columns.values[rfe.support_]\n",
    "print(\"Top ten features:\")\n",
    "print(features_top10)\n",
    "\n",
    "print (\"Features sorted by their rank:\")\n",
    "print ( sorted(zip(map(lambda x: round(x, 4), rfe.ranking_), features)) )\n",
    "\n",
    "ff = df[features_top10]\n",
    "model.fit(ff, labels)\n",
    "print(\"Model:\")\n",
    "print(model)\n",
    "\n",
    "scores = cross_val_score(model, ff, df[target][\"OPI\"], cv=10)\n",
    "print( \"Cross validation scores using top 10 features\")\n",
    "print(scores )                                             \n",
    "\n",
    "# The mean score and the 95% confidence interval of the score estimate are hence given by:\n",
    "print(\"Mean accuracy using top 10 features: %0.2f (+/- %0.2f)\" % (scores.mean(), scores.std() * 2))\n"
   ]
  },
  {
   "cell_type": "markdown",
   "metadata": {},
   "source": [
    "*Accuracy is 0.66 for DR classifier using top 10 features.*"
   ]
  },
  {
   "cell_type": "markdown",
   "metadata": {},
   "source": [
    "#### Random Forest"
   ]
  },
  {
   "cell_type": "code",
   "execution_count": 171,
   "metadata": {
    "collapsed": false
   },
   "outputs": [
    {
     "name": "stdout",
     "output_type": "stream",
     "text": [
      "DecisionTreeClassifier(class_weight=None, criterion='gini', max_depth=None,\n",
      "            max_features=None, max_leaf_nodes=None,\n",
      "            min_impurity_split=1e-07, min_samples_leaf=1,\n",
      "            min_samples_split=2, min_weight_fraction_leaf=0.0,\n",
      "            presort=False, random_state=None, splitter='best')\n",
      "Cross validation scores using top 10 features\n",
      "[ 0.61904762  0.57142857  0.66666667  0.57142857  0.85        0.7\n",
      "  0.73684211  0.63157895  0.73684211  0.84210526]\n",
      "Mean accuracy using top 10 features: 0.69 (+/- 0.19)\n"
     ]
    }
   ],
   "source": [
    "from sklearn.model_selection import cross_val_score\n",
    "from sklearn.model_selection import train_test_split\n",
    "from sklearn.ensemble import RandomForestClassifier\n",
    "# X_train, X_test, y_train, y_test = train_test_split(iris.data, iris.target, test_size=0.4, random_state=0)\n",
    "\n",
    "clf = RandomForestClassifier(n_estimators=25)\n",
    "\n",
    "labels = df[target][\"OPI\"]\n",
    "\n",
    "ff = df[features_top10]\n",
    "clf.fit(ff, labels)\n",
    "print(model)\n",
    "\n",
    "scores = cross_val_score(clf, ff, df[target][\"OPI\"], cv=10)\n",
    "print( \"Cross validation scores using top 10 features\")\n",
    "print(scores )                                             \n",
    "\n",
    "# The mean score and the 95% confidence interval of the score estimate are hence given by:\n",
    "print(\"Mean accuracy using top 10 features: %0.2f (+/- %0.2f)\" % (scores.mean(), scores.std() * 2))"
   ]
  },
  {
   "cell_type": "markdown",
   "metadata": {},
   "source": [
    "*Accuracy is 0.64 for RF classifier using top 10 features.*"
   ]
  },
  {
   "cell_type": "markdown",
   "metadata": {},
   "source": [
    "### STOP"
   ]
  },
  {
   "cell_type": "code",
   "execution_count": null,
   "metadata": {
    "collapsed": true
   },
   "outputs": [],
   "source": []
  }
 ],
 "metadata": {
  "kernelspec": {
   "display_name": "Python 3",
   "language": "python",
   "name": "python3"
  },
  "language_info": {
   "codemirror_mode": {
    "name": "ipython",
    "version": 3
   },
   "file_extension": ".py",
   "mimetype": "text/x-python",
   "name": "python",
   "nbconvert_exporter": "python",
   "pygments_lexer": "ipython3",
   "version": "3.5.1"
  }
 },
 "nbformat": 4,
 "nbformat_minor": 0
}
